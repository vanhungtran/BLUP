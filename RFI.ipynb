{
 "cells": [
  {
   "cell_type": "markdown",
   "metadata": {},
   "source": [
    "# GENOMIC PREDICTION FOR LONGITUDINAL RESIDUAL FEED INTAKE -\n",
    "\n",
    "## **COMPUTING CORRECTED PHENOTYPES**\n",
    "\n",
    "\n",
    "\n",
    "\n"
   ]
  },
  {
   "cell_type": "markdown",
   "metadata": {},
   "source": [
    "This program is used to computed the corrected phenotypes obtained with different models Random regression, SAD and Multiple-trait models"
   ]
  },
  {
   "cell_type": "code",
   "execution_count": 27,
   "metadata": {},
   "outputs": [],
   "source": [
    "# Load required packages\n",
    "library(pacman)\n",
    "pacman::p_load(dplyr,reshape2, stringr, plyr, psych, corrplot)\n",
    "\n",
    "\n",
    "\n",
    "# set path work drive\n",
    "#path=getwd()\n",
    "setwd(\"C:/Users/HP/OneDrive/RFI_all/RFI_all\")\n",
    "\n",
    "\n",
    "# Read data \n",
    "pheno <- read.table(\"pheno1.dat\", quote=\"\\\"\", comment.char=\"\")\n",
    "\n",
    "\n",
    "# renames columns\n",
    "names(pheno)<-c(\"animal\",\"identif\" ,\"bande\",\n",
    "                \"sex\" ,\"lignee\"  ,\"gener\",\n",
    "                \"loge\"  , \"eleve\",\"pds_dc\",  \n",
    "                \"pds_fc\" ,  \"age\" ,  \"BW\",\"BWpre\",\n",
    "                \"age_dc\",\n",
    "                \"temps\",\"FCR\",\"ADG\",\"AMBW\"  ,\n",
    "                \"BF\",\"FI\" ,\"RFI\",\"week\",\"pe1\",\n",
    "                \"pe2\",\"pe3\",\n",
    "                \"selec1\",\"selec2\",\"e_RR\",\n",
    "                \"e_RRss\",\"e_SAD\",\"e_SADss\",\"e_MTA\",\"e_MTH\")\n",
    "\n",
    "pheno <- select(pheno, -c(pe1,pe3)) # drop unnecessary columns\n"
   ]
  },
  {
   "cell_type": "markdown",
   "metadata": {},
   "source": [
    "This dataset contains the followings: \n",
    "- animal, identif = id of animal\n",
    "- BW = Body weight\n",
    "- BWpre = predicted BW using a linear interpolation\n",
    "- temps = time (in week, from week 4 to week 13 from the beginning of the test)\n",
    "- pe1 = period 1 (week 1-2)\n",
    "- pe2 = period 2 (week 3-5)\n"
   ]
  },
  {
   "cell_type": "markdown",
   "metadata": {},
   "source": [
    " **Display the first lines of dataset 'pheno'**"
   ]
  },
  {
   "cell_type": "code",
   "execution_count": 28,
   "metadata": {},
   "outputs": [
    {
     "data": {
      "text/html": [
       "<table>\n",
       "<caption>A data.frame: 6 × 31</caption>\n",
       "<thead>\n",
       "\t<tr><th></th><th scope=col>animal</th><th scope=col>identif</th><th scope=col>bande</th><th scope=col>sex</th><th scope=col>lignee</th><th scope=col>gener</th><th scope=col>loge</th><th scope=col>eleve</th><th scope=col>pds_dc</th><th scope=col>pds_fc</th><th scope=col>...</th><th scope=col>week</th><th scope=col>pe2</th><th scope=col>selec1</th><th scope=col>selec2</th><th scope=col>e_RR</th><th scope=col>e_RRss</th><th scope=col>e_SAD</th><th scope=col>e_SADss</th><th scope=col>e_MTA</th><th scope=col>e_MTH</th></tr>\n",
       "\t<tr><th></th><th scope=col>&lt;fct&gt;</th><th scope=col>&lt;fct&gt;</th><th scope=col>&lt;int&gt;</th><th scope=col>&lt;int&gt;</th><th scope=col>&lt;fct&gt;</th><th scope=col>&lt;fct&gt;</th><th scope=col>&lt;int&gt;</th><th scope=col>&lt;fct&gt;</th><th scope=col>&lt;int&gt;</th><th scope=col>&lt;int&gt;</th><th scope=col>...</th><th scope=col>&lt;int&gt;</th><th scope=col>&lt;int&gt;</th><th scope=col>&lt;int&gt;</th><th scope=col>&lt;int&gt;</th><th scope=col>&lt;dbl&gt;</th><th scope=col>&lt;dbl&gt;</th><th scope=col>&lt;dbl&gt;</th><th scope=col>&lt;dbl&gt;</th><th scope=col>&lt;dbl&gt;</th><th scope=col>&lt;dbl&gt;</th></tr>\n",
       "</thead>\n",
       "<tbody>\n",
       "\t<tr><th scope=row>1</th><td>17MAG20005072</td><td>17MAG20005072</td><td>200011</td><td>2</td><td>n</td><td>G0</td><td>72</td><td>17MAG</td><td>24</td><td>128</td><td>...</td><td>1</td><td>1</td><td>0</td><td>1</td><td>-31.580</td><td>-30.980</td><td>-0.0009618</td><td>-9.739e-04</td><td>-28.78</td><td>-28.560</td></tr>\n",
       "\t<tr><th scope=row>2</th><td>17MAG20005072</td><td>17MAG20005072</td><td>200011</td><td>2</td><td>n</td><td>G0</td><td>72</td><td>17MAG</td><td>24</td><td>128</td><td>...</td><td>2</td><td>1</td><td>0</td><td>1</td><td> -4.791</td><td> -4.344</td><td>-0.0001196</td><td>-9.429e-05</td><td> -1.39</td><td> -1.137</td></tr>\n",
       "\t<tr><th scope=row>3</th><td>17MAG20005072</td><td>17MAG20005072</td><td>200011</td><td>2</td><td>n</td><td>G0</td><td>72</td><td>17MAG</td><td>24</td><td>128</td><td>...</td><td>3</td><td>2</td><td>0</td><td>1</td><td> 16.910</td><td> 17.230</td><td> 0.0002545</td><td> 2.841e-04</td><td> 19.38</td><td> 20.080</td></tr>\n",
       "\t<tr><th scope=row>4</th><td>17MAG20005072</td><td>17MAG20005072</td><td>200011</td><td>2</td><td>n</td><td>G0</td><td>72</td><td>17MAG</td><td>24</td><td>128</td><td>...</td><td>4</td><td>2</td><td>0</td><td>1</td><td> 16.470</td><td> 16.690</td><td> 0.0006243</td><td> 6.332e-04</td><td> 18.52</td><td> 19.210</td></tr>\n",
       "\t<tr><th scope=row>5</th><td>17MAG20005072</td><td>17MAG20005072</td><td>200011</td><td>2</td><td>n</td><td>G0</td><td>72</td><td>17MAG</td><td>24</td><td>128</td><td>...</td><td>5</td><td>2</td><td>0</td><td>1</td><td>-60.050</td><td>-59.900</td><td>-0.0016420</td><td>-1.647e-03</td><td>-58.44</td><td>-57.750</td></tr>\n",
       "\t<tr><th scope=row>6</th><td>17MAG20005072</td><td>17MAG20005072</td><td>200011</td><td>2</td><td>n</td><td>G0</td><td>72</td><td>17MAG</td><td>24</td><td>128</td><td>...</td><td>6</td><td>3</td><td>0</td><td>1</td><td> 13.970</td><td> 14.090</td><td> 0.0004870</td><td> 4.940e-04</td><td> 11.81</td><td> 11.600</td></tr>\n",
       "</tbody>\n",
       "</table>\n"
      ],
      "text/latex": [
       "A data.frame: 6 × 31\n",
       "\\begin{tabular}{r|lllllllllllllllllllll}\n",
       "  & animal & identif & bande & sex & lignee & gener & loge & eleve & pds\\_dc & pds\\_fc & ... & week & pe2 & selec1 & selec2 & e\\_RR & e\\_RRss & e\\_SAD & e\\_SADss & e\\_MTA & e\\_MTH\\\\\n",
       "  & <fct> & <fct> & <int> & <int> & <fct> & <fct> & <int> & <fct> & <int> & <int> & ... & <int> & <int> & <int> & <int> & <dbl> & <dbl> & <dbl> & <dbl> & <dbl> & <dbl>\\\\\n",
       "\\hline\n",
       "\t1 & 17MAG20005072 & 17MAG20005072 & 200011 & 2 & n & G0 & 72 & 17MAG & 24 & 128 & ... & 1 & 1 & 0 & 1 & -31.580 & -30.980 & -0.0009618 & -9.739e-04 & -28.78 & -28.560\\\\\n",
       "\t2 & 17MAG20005072 & 17MAG20005072 & 200011 & 2 & n & G0 & 72 & 17MAG & 24 & 128 & ... & 2 & 1 & 0 & 1 &  -4.791 &  -4.344 & -0.0001196 & -9.429e-05 &  -1.39 &  -1.137\\\\\n",
       "\t3 & 17MAG20005072 & 17MAG20005072 & 200011 & 2 & n & G0 & 72 & 17MAG & 24 & 128 & ... & 3 & 2 & 0 & 1 &  16.910 &  17.230 &  0.0002545 &  2.841e-04 &  19.38 &  20.080\\\\\n",
       "\t4 & 17MAG20005072 & 17MAG20005072 & 200011 & 2 & n & G0 & 72 & 17MAG & 24 & 128 & ... & 4 & 2 & 0 & 1 &  16.470 &  16.690 &  0.0006243 &  6.332e-04 &  18.52 &  19.210\\\\\n",
       "\t5 & 17MAG20005072 & 17MAG20005072 & 200011 & 2 & n & G0 & 72 & 17MAG & 24 & 128 & ... & 5 & 2 & 0 & 1 & -60.050 & -59.900 & -0.0016420 & -1.647e-03 & -58.44 & -57.750\\\\\n",
       "\t6 & 17MAG20005072 & 17MAG20005072 & 200011 & 2 & n & G0 & 72 & 17MAG & 24 & 128 & ... & 6 & 3 & 0 & 1 &  13.970 &  14.090 &  0.0004870 &  4.940e-04 &  11.81 &  11.600\\\\\n",
       "\\end{tabular}\n"
      ],
      "text/markdown": [
       "\n",
       "A data.frame: 6 × 31\n",
       "\n",
       "| <!--/--> | animal &lt;fct&gt; | identif &lt;fct&gt; | bande &lt;int&gt; | sex &lt;int&gt; | lignee &lt;fct&gt; | gener &lt;fct&gt; | loge &lt;int&gt; | eleve &lt;fct&gt; | pds_dc &lt;int&gt; | pds_fc &lt;int&gt; | ... ... | week &lt;int&gt; | pe2 &lt;int&gt; | selec1 &lt;int&gt; | selec2 &lt;int&gt; | e_RR &lt;dbl&gt; | e_RRss &lt;dbl&gt; | e_SAD &lt;dbl&gt; | e_SADss &lt;dbl&gt; | e_MTA &lt;dbl&gt; | e_MTH &lt;dbl&gt; |\n",
       "|---|---|---|---|---|---|---|---|---|---|---|---|---|---|---|---|---|---|---|---|---|---|\n",
       "| 1 | 17MAG20005072 | 17MAG20005072 | 200011 | 2 | n | G0 | 72 | 17MAG | 24 | 128 | ... | 1 | 1 | 0 | 1 | -31.580 | -30.980 | -0.0009618 | -9.739e-04 | -28.78 | -28.560 |\n",
       "| 2 | 17MAG20005072 | 17MAG20005072 | 200011 | 2 | n | G0 | 72 | 17MAG | 24 | 128 | ... | 2 | 1 | 0 | 1 |  -4.791 |  -4.344 | -0.0001196 | -9.429e-05 |  -1.39 |  -1.137 |\n",
       "| 3 | 17MAG20005072 | 17MAG20005072 | 200011 | 2 | n | G0 | 72 | 17MAG | 24 | 128 | ... | 3 | 2 | 0 | 1 |  16.910 |  17.230 |  0.0002545 |  2.841e-04 |  19.38 |  20.080 |\n",
       "| 4 | 17MAG20005072 | 17MAG20005072 | 200011 | 2 | n | G0 | 72 | 17MAG | 24 | 128 | ... | 4 | 2 | 0 | 1 |  16.470 |  16.690 |  0.0006243 |  6.332e-04 |  18.52 |  19.210 |\n",
       "| 5 | 17MAG20005072 | 17MAG20005072 | 200011 | 2 | n | G0 | 72 | 17MAG | 24 | 128 | ... | 5 | 2 | 0 | 1 | -60.050 | -59.900 | -0.0016420 | -1.647e-03 | -58.44 | -57.750 |\n",
       "| 6 | 17MAG20005072 | 17MAG20005072 | 200011 | 2 | n | G0 | 72 | 17MAG | 24 | 128 | ... | 6 | 3 | 0 | 1 |  13.970 |  14.090 |  0.0004870 |  4.940e-04 |  11.81 |  11.600 |\n",
       "\n"
      ],
      "text/plain": [
       "  animal        identif       bande  sex lignee gener loge eleve pds_dc pds_fc\n",
       "1 17MAG20005072 17MAG20005072 200011 2   n      G0    72   17MAG 24     128   \n",
       "2 17MAG20005072 17MAG20005072 200011 2   n      G0    72   17MAG 24     128   \n",
       "3 17MAG20005072 17MAG20005072 200011 2   n      G0    72   17MAG 24     128   \n",
       "4 17MAG20005072 17MAG20005072 200011 2   n      G0    72   17MAG 24     128   \n",
       "5 17MAG20005072 17MAG20005072 200011 2   n      G0    72   17MAG 24     128   \n",
       "6 17MAG20005072 17MAG20005072 200011 2   n      G0    72   17MAG 24     128   \n",
       "  ... week pe2 selec1 selec2 e_RR    e_RRss  e_SAD      e_SADss    e_MTA \n",
       "1 ... 1    1   0      1      -31.580 -30.980 -0.0009618 -9.739e-04 -28.78\n",
       "2 ... 2    1   0      1       -4.791  -4.344 -0.0001196 -9.429e-05  -1.39\n",
       "3 ... 3    2   0      1       16.910  17.230  0.0002545  2.841e-04  19.38\n",
       "4 ... 4    2   0      1       16.470  16.690  0.0006243  6.332e-04  18.52\n",
       "5 ... 5    2   0      1      -60.050 -59.900 -0.0016420 -1.647e-03 -58.44\n",
       "6 ... 6    3   0      1       13.970  14.090  0.0004870  4.940e-04  11.81\n",
       "  e_MTH  \n",
       "1 -28.560\n",
       "2  -1.137\n",
       "3  20.080\n",
       "4  19.210\n",
       "5 -57.750\n",
       "6  11.600"
      ]
     },
     "metadata": {},
     "output_type": "display_data"
    }
   ],
   "source": [
    "head(pheno)"
   ]
  },
  {
   "cell_type": "code",
   "execution_count": 29,
   "metadata": {},
   "outputs": [
    {
     "data": {
      "text/html": [
       "2397"
      ],
      "text/latex": [
       "2397"
      ],
      "text/markdown": [
       "2397"
      ],
      "text/plain": [
       "[1] 2397"
      ]
     },
     "metadata": {},
     "output_type": "display_data"
    }
   ],
   "source": [
    "length(unique(pheno$animal))"
   ]
  },
  {
   "cell_type": "markdown",
   "metadata": {},
   "source": [
    "In above file contains data of 2397 animals, including batch(bande), sex, line (lignee), loge, eleve, BW at the begining and BW_at the end of test"
   ]
  },
  {
   "cell_type": "markdown",
   "metadata": {},
   "source": [
    " # Random regression models with matrix A"
   ]
  },
  {
   "cell_type": "code",
   "execution_count": 30,
   "metadata": {},
   "outputs": [],
   "source": [
    "# Read data (outputs of Asreml program)\n",
    "sln_RRAe <- read.table(\"ide_RRA\",quote=\"\\\"\") # Permanental random effect\n",
    "sln_RRAg <- read.table(\"sln_RRA\",quote=\"\\\"\") # Genetic random effect\n",
    "sln_RRAg$V3=sln_RRAe$V3 + sln_RRAg$V3"
   ]
  },
  {
   "cell_type": "code",
   "execution_count": 31,
   "metadata": {},
   "outputs": [
    {
     "data": {
      "text/html": [
       "<table>\n",
       "<caption>A data.frame: 6 × 6</caption>\n",
       "<thead>\n",
       "\t<tr><th></th><th scope=col>kk</th><th scope=col>a</th><th scope=col>para</th><th scope=col>SE</th><th scope=col>gr</th><th scope=col>animal</th></tr>\n",
       "\t<tr><th></th><th scope=col>&lt;fct&gt;</th><th scope=col>&lt;fct&gt;</th><th scope=col>&lt;dbl&gt;</th><th scope=col>&lt;dbl&gt;</th><th scope=col>&lt;fct&gt;</th><th scope=col>&lt;fct&gt;</th></tr>\n",
       "</thead>\n",
       "<tbody>\n",
       "\t<tr><th scope=row>1</th><td>leg(temps,2).animal</td><td>1.17M3019830268</td><td>-0.0459300</td><td>8.166</td><td>1</td><td>17M3019830268</td></tr>\n",
       "\t<tr><th scope=row>2</th><td>leg(temps,2).animal</td><td>1.17M3019830280</td><td> 0.0009301</td><td>8.166</td><td>1</td><td>17M3019830280</td></tr>\n",
       "\t<tr><th scope=row>3</th><td>leg(temps,2).animal</td><td>1.17M3019830492</td><td>-0.0234300</td><td>8.166</td><td>1</td><td>17M3019830492</td></tr>\n",
       "\t<tr><th scope=row>4</th><td>leg(temps,2).animal</td><td>1.17M3019830508</td><td>-0.0234300</td><td>8.166</td><td>1</td><td>17M3019830508</td></tr>\n",
       "\t<tr><th scope=row>5</th><td>leg(temps,2).animal</td><td>1.17M3019840010</td><td>-0.0215700</td><td>8.166</td><td>1</td><td>17M3019840010</td></tr>\n",
       "\t<tr><th scope=row>6</th><td>leg(temps,2).animal</td><td>1.17M3019840036</td><td>-0.0468600</td><td>8.166</td><td>1</td><td>17M3019840036</td></tr>\n",
       "</tbody>\n",
       "</table>\n"
      ],
      "text/latex": [
       "A data.frame: 6 × 6\n",
       "\\begin{tabular}{r|llllll}\n",
       "  & kk & a & para & SE & gr & animal\\\\\n",
       "  & <fct> & <fct> & <dbl> & <dbl> & <fct> & <fct>\\\\\n",
       "\\hline\n",
       "\t1 & leg(temps,2).animal & 1.17M3019830268 & -0.0459300 & 8.166 & 1 & 17M3019830268\\\\\n",
       "\t2 & leg(temps,2).animal & 1.17M3019830280 &  0.0009301 & 8.166 & 1 & 17M3019830280\\\\\n",
       "\t3 & leg(temps,2).animal & 1.17M3019830492 & -0.0234300 & 8.166 & 1 & 17M3019830492\\\\\n",
       "\t4 & leg(temps,2).animal & 1.17M3019830508 & -0.0234300 & 8.166 & 1 & 17M3019830508\\\\\n",
       "\t5 & leg(temps,2).animal & 1.17M3019840010 & -0.0215700 & 8.166 & 1 & 17M3019840010\\\\\n",
       "\t6 & leg(temps,2).animal & 1.17M3019840036 & -0.0468600 & 8.166 & 1 & 17M3019840036\\\\\n",
       "\\end{tabular}\n"
      ],
      "text/markdown": [
       "\n",
       "A data.frame: 6 × 6\n",
       "\n",
       "| <!--/--> | kk &lt;fct&gt; | a &lt;fct&gt; | para &lt;dbl&gt; | SE &lt;dbl&gt; | gr &lt;fct&gt; | animal &lt;fct&gt; |\n",
       "|---|---|---|---|---|---|---|\n",
       "| 1 | leg(temps,2).animal | 1.17M3019830268 | -0.0459300 | 8.166 | 1 | 17M3019830268 |\n",
       "| 2 | leg(temps,2).animal | 1.17M3019830280 |  0.0009301 | 8.166 | 1 | 17M3019830280 |\n",
       "| 3 | leg(temps,2).animal | 1.17M3019830492 | -0.0234300 | 8.166 | 1 | 17M3019830492 |\n",
       "| 4 | leg(temps,2).animal | 1.17M3019830508 | -0.0234300 | 8.166 | 1 | 17M3019830508 |\n",
       "| 5 | leg(temps,2).animal | 1.17M3019840010 | -0.0215700 | 8.166 | 1 | 17M3019840010 |\n",
       "| 6 | leg(temps,2).animal | 1.17M3019840036 | -0.0468600 | 8.166 | 1 | 17M3019840036 |\n",
       "\n"
      ],
      "text/plain": [
       "  kk                  a               para       SE    gr animal       \n",
       "1 leg(temps,2).animal 1.17M3019830268 -0.0459300 8.166 1  17M3019830268\n",
       "2 leg(temps,2).animal 1.17M3019830280  0.0009301 8.166 1  17M3019830280\n",
       "3 leg(temps,2).animal 1.17M3019830492 -0.0234300 8.166 1  17M3019830492\n",
       "4 leg(temps,2).animal 1.17M3019830508 -0.0234300 8.166 1  17M3019830508\n",
       "5 leg(temps,2).animal 1.17M3019840010 -0.0215700 8.166 1  17M3019840010\n",
       "6 leg(temps,2).animal 1.17M3019840036 -0.0468600 8.166 1  17M3019840036"
      ]
     },
     "metadata": {},
     "output_type": "display_data"
    }
   ],
   "source": [
    "sln_RRAg = cbind(sln_RRAg,as.data.frame(matrix(unlist( strsplit(as.character(sln_RRAg$V2)  , \"\\\\.\")) , ncol = 2 , byrow = TRUE )))\n",
    "names(sln_RRAg)<-c(\"kk\",\"a\",\"para\",\"SE\",\"gr\",\"animal\")\n",
    "head(sln_RRAg)"
   ]
  },
  {
   "cell_type": "code",
   "execution_count": 32,
   "metadata": {},
   "outputs": [
    {
     "data": {
      "text/html": [
       "<table>\n",
       "<caption>A data.frame: 6 × 9</caption>\n",
       "<thead>\n",
       "\t<tr><th></th><th scope=col>kk</th><th scope=col>a</th><th scope=col>para</th><th scope=col>SE</th><th scope=col>gr</th><th scope=col>animal</th><th scope=col>para1</th><th scope=col>para2</th><th scope=col>para3</th></tr>\n",
       "\t<tr><th></th><th scope=col>&lt;fct&gt;</th><th scope=col>&lt;fct&gt;</th><th scope=col>&lt;dbl&gt;</th><th scope=col>&lt;dbl&gt;</th><th scope=col>&lt;fct&gt;</th><th scope=col>&lt;fct&gt;</th><th scope=col>&lt;dbl&gt;</th><th scope=col>&lt;dbl&gt;</th><th scope=col>&lt;dbl&gt;</th></tr>\n",
       "</thead>\n",
       "<tbody>\n",
       "\t<tr><th scope=row>1</th><td>leg(temps,2).animal</td><td>1.0000019851067</td><td> 0.019560</td><td>8.166</td><td>1</td><td>0000019851067</td><td> 0.01956</td><td> 0.00000</td><td> 0.000000</td></tr>\n",
       "\t<tr><th scope=row>2</th><td>leg(temps,2).animal</td><td>2.0000019851067</td><td> 0.035280</td><td>7.498</td><td>2</td><td>0000019851067</td><td> 0.00000</td><td> 0.03528</td><td> 0.000000</td></tr>\n",
       "\t<tr><th scope=row>3</th><td>leg(temps,2).animal</td><td>3.0000019851067</td><td> 0.006404</td><td>4.539</td><td>3</td><td>0000019851067</td><td> 0.00000</td><td> 0.00000</td><td> 0.006404</td></tr>\n",
       "\t<tr><th scope=row>4</th><td>leg(temps,2).animal</td><td>1.0000019858909</td><td>-0.152500</td><td>8.165</td><td>1</td><td>0000019858909</td><td>-0.15250</td><td> 0.00000</td><td> 0.000000</td></tr>\n",
       "\t<tr><th scope=row>5</th><td>leg(temps,2).animal</td><td>2.0000019858909</td><td>-0.161000</td><td>7.497</td><td>2</td><td>0000019858909</td><td> 0.00000</td><td>-0.16100</td><td> 0.000000</td></tr>\n",
       "\t<tr><th scope=row>6</th><td>leg(temps,2).animal</td><td>3.0000019858909</td><td>-0.025930</td><td>4.538</td><td>3</td><td>0000019858909</td><td> 0.00000</td><td> 0.00000</td><td>-0.025930</td></tr>\n",
       "</tbody>\n",
       "</table>\n"
      ],
      "text/latex": [
       "A data.frame: 6 × 9\n",
       "\\begin{tabular}{r|lllllllll}\n",
       "  & kk & a & para & SE & gr & animal & para1 & para2 & para3\\\\\n",
       "  & <fct> & <fct> & <dbl> & <dbl> & <fct> & <fct> & <dbl> & <dbl> & <dbl>\\\\\n",
       "\\hline\n",
       "\t1 & leg(temps,2).animal & 1.0000019851067 &  0.019560 & 8.166 & 1 & 0000019851067 &  0.01956 &  0.00000 &  0.000000\\\\\n",
       "\t2 & leg(temps,2).animal & 2.0000019851067 &  0.035280 & 7.498 & 2 & 0000019851067 &  0.00000 &  0.03528 &  0.000000\\\\\n",
       "\t3 & leg(temps,2).animal & 3.0000019851067 &  0.006404 & 4.539 & 3 & 0000019851067 &  0.00000 &  0.00000 &  0.006404\\\\\n",
       "\t4 & leg(temps,2).animal & 1.0000019858909 & -0.152500 & 8.165 & 1 & 0000019858909 & -0.15250 &  0.00000 &  0.000000\\\\\n",
       "\t5 & leg(temps,2).animal & 2.0000019858909 & -0.161000 & 7.497 & 2 & 0000019858909 &  0.00000 & -0.16100 &  0.000000\\\\\n",
       "\t6 & leg(temps,2).animal & 3.0000019858909 & -0.025930 & 4.538 & 3 & 0000019858909 &  0.00000 &  0.00000 & -0.025930\\\\\n",
       "\\end{tabular}\n"
      ],
      "text/markdown": [
       "\n",
       "A data.frame: 6 × 9\n",
       "\n",
       "| <!--/--> | kk &lt;fct&gt; | a &lt;fct&gt; | para &lt;dbl&gt; | SE &lt;dbl&gt; | gr &lt;fct&gt; | animal &lt;fct&gt; | para1 &lt;dbl&gt; | para2 &lt;dbl&gt; | para3 &lt;dbl&gt; |\n",
       "|---|---|---|---|---|---|---|---|---|---|\n",
       "| 1 | leg(temps,2).animal | 1.0000019851067 |  0.019560 | 8.166 | 1 | 0000019851067 |  0.01956 |  0.00000 |  0.000000 |\n",
       "| 2 | leg(temps,2).animal | 2.0000019851067 |  0.035280 | 7.498 | 2 | 0000019851067 |  0.00000 |  0.03528 |  0.000000 |\n",
       "| 3 | leg(temps,2).animal | 3.0000019851067 |  0.006404 | 4.539 | 3 | 0000019851067 |  0.00000 |  0.00000 |  0.006404 |\n",
       "| 4 | leg(temps,2).animal | 1.0000019858909 | -0.152500 | 8.165 | 1 | 0000019858909 | -0.15250 |  0.00000 |  0.000000 |\n",
       "| 5 | leg(temps,2).animal | 2.0000019858909 | -0.161000 | 7.497 | 2 | 0000019858909 |  0.00000 | -0.16100 |  0.000000 |\n",
       "| 6 | leg(temps,2).animal | 3.0000019858909 | -0.025930 | 4.538 | 3 | 0000019858909 |  0.00000 |  0.00000 | -0.025930 |\n",
       "\n"
      ],
      "text/plain": [
       "  kk                  a               para      SE    gr animal        para1   \n",
       "1 leg(temps,2).animal 1.0000019851067  0.019560 8.166 1  0000019851067  0.01956\n",
       "2 leg(temps,2).animal 2.0000019851067  0.035280 7.498 2  0000019851067  0.00000\n",
       "3 leg(temps,2).animal 3.0000019851067  0.006404 4.539 3  0000019851067  0.00000\n",
       "4 leg(temps,2).animal 1.0000019858909 -0.152500 8.165 1  0000019858909 -0.15250\n",
       "5 leg(temps,2).animal 2.0000019858909 -0.161000 7.497 2  0000019858909  0.00000\n",
       "6 leg(temps,2).animal 3.0000019858909 -0.025930 4.538 3  0000019858909  0.00000\n",
       "  para2    para3    \n",
       "1  0.00000  0.000000\n",
       "2  0.03528  0.000000\n",
       "3  0.00000  0.006404\n",
       "4  0.00000  0.000000\n",
       "5 -0.16100  0.000000\n",
       "6  0.00000 -0.025930"
      ]
     },
     "metadata": {},
     "output_type": "display_data"
    }
   ],
   "source": [
    "sln_RRAg$para1=ifelse(sln_RRAg$gr==1,sln_RRAg$para,0)  \n",
    "sln_RRAg$para2=ifelse(sln_RRAg$gr==2,sln_RRAg$para,0) \n",
    "sln_RRAg$para3=ifelse(sln_RRAg$gr==3,sln_RRAg$para,0)  \n",
    "sln_RRAg=arrange(sln_RRAg,animal,gr)  \n",
    "head(sln_RRAg)"
   ]
  },
  {
   "cell_type": "code",
   "execution_count": 33,
   "metadata": {},
   "outputs": [],
   "source": [
    "tatemp <- read.table(\"OP.txt\",quote=\"\\\"\") \n",
    "names(tatemp)[1]<-\"temps\"  \n",
    "names(tatemp)[2]<-\"f1\"  \n",
    "names(tatemp)[3]<-\"f2\"  \n",
    "names(tatemp)[4]<-\"f3\"  \n",
    "Temp=t(as.matrix(tatemp[2:4]))\n"
   ]
  },
  {
   "cell_type": "code",
   "execution_count": 34,
   "metadata": {},
   "outputs": [
    {
     "data": {
      "text/html": [
       "<table>\n",
       "<caption>A matrix: 3 × 10 of type dbl</caption>\n",
       "<tbody>\n",
       "\t<tr><th scope=row>f1</th><td> 0.70711</td><td> 0.70711</td><td> 0.70711</td><td> 0.70711</td><td> 0.70711</td><td> 0.70711</td><td> 0.70711</td><td> 0.70711</td><td>0.70711</td><td>0.70711</td></tr>\n",
       "\t<tr><th scope=row>f2</th><td>-1.22474</td><td>-0.95258</td><td>-0.68041</td><td>-0.40825</td><td>-0.13608</td><td> 0.13608</td><td> 0.40825</td><td> 0.68041</td><td>0.95258</td><td>1.22474</td></tr>\n",
       "\t<tr><th scope=row>f3</th><td> 1.58114</td><td> 0.64417</td><td>-0.05856</td><td>-0.52705</td><td>-0.76129</td><td>-0.76129</td><td>-0.52705</td><td>-0.05856</td><td>0.64417</td><td>1.58114</td></tr>\n",
       "</tbody>\n",
       "</table>\n"
      ],
      "text/latex": [
       "A matrix: 3 × 10 of type dbl\n",
       "\\begin{tabular}{r|llllllllll}\n",
       "\tf1 &  0.70711 &  0.70711 &  0.70711 &  0.70711 &  0.70711 &  0.70711 &  0.70711 &  0.70711 & 0.70711 & 0.70711\\\\\n",
       "\tf2 & -1.22474 & -0.95258 & -0.68041 & -0.40825 & -0.13608 &  0.13608 &  0.40825 &  0.68041 & 0.95258 & 1.22474\\\\\n",
       "\tf3 &  1.58114 &  0.64417 & -0.05856 & -0.52705 & -0.76129 & -0.76129 & -0.52705 & -0.05856 & 0.64417 & 1.58114\\\\\n",
       "\\end{tabular}\n"
      ],
      "text/markdown": [
       "\n",
       "A matrix: 3 × 10 of type dbl\n",
       "\n",
       "| f1 |  0.70711 |  0.70711 |  0.70711 |  0.70711 |  0.70711 |  0.70711 |  0.70711 |  0.70711 | 0.70711 | 0.70711 |\n",
       "| f2 | -1.22474 | -0.95258 | -0.68041 | -0.40825 | -0.13608 |  0.13608 |  0.40825 |  0.68041 | 0.95258 | 1.22474 |\n",
       "| f3 |  1.58114 |  0.64417 | -0.05856 | -0.52705 | -0.76129 | -0.76129 | -0.52705 | -0.05856 | 0.64417 | 1.58114 |\n",
       "\n"
      ],
      "text/plain": [
       "   [,1]     [,2]     [,3]     [,4]     [,5]     [,6]     [,7]     [,8]    \n",
       "f1  0.70711  0.70711  0.70711  0.70711  0.70711  0.70711  0.70711  0.70711\n",
       "f2 -1.22474 -0.95258 -0.68041 -0.40825 -0.13608  0.13608  0.40825  0.68041\n",
       "f3  1.58114  0.64417 -0.05856 -0.52705 -0.76129 -0.76129 -0.52705 -0.05856\n",
       "   [,9]    [,10]  \n",
       "f1 0.70711 0.70711\n",
       "f2 0.95258 1.22474\n",
       "f3 0.64417 1.58114"
      ]
     },
     "metadata": {},
     "output_type": "display_data"
    }
   ],
   "source": [
    "# matix T\n",
    "head(Temp)"
   ]
  },
  {
   "cell_type": "code",
   "execution_count": 35,
   "metadata": {},
   "outputs": [],
   "source": [
    "#sln1=merge(sln,pheno,by = \"animal\")\n",
    "\n",
    "SLN=sln_RRAg[,c(\"animal\",\"gr\",\"para\")]\n",
    "SLN1=arrange(SLN,animal,gr)\n",
    "#SLN2=reshape(SLN1, timevar = \"gr\",idvar = \"animal\",direction=\"wide\",sep=\"\")\n",
    "SLN2=reshape(SLN1,varying = NULL, timevar = \"gr\",idvar = \"animal\",direction=\"wide\",sep=\"\")\n",
    "SLN3=arrange(SLN2,animal)\n",
    "\n",
    "\n",
    "\n",
    "\n",
    "SLN4=SLN3[,2:4]\n",
    "SLN5=as.matrix(SLN4)\n",
    "EBV_all=as.data.frame((SLN5)%*%(Temp))\n",
    "EBV_all$animal=SLN2$animal\n",
    "\n",
    "\n",
    "df_effect=melt(EBV_all, id.vars = \"animal\", \n",
    "               measure.vars = c(\"V1\", \"V2\",\"V3\",\n",
    "                                \"V4\",\"V5\",\"V6\",\"V7\",\"V8\",\"V9\",\"V10\"))\n",
    "\n",
    "df_effect = arrange(df_effect,animal,variable)\n",
    "df_effect$week=c(rep(1:10,3986))"
   ]
  },
  {
   "cell_type": "code",
   "execution_count": 36,
   "metadata": {},
   "outputs": [
    {
     "data": {
      "text/html": [
       "<table>\n",
       "<caption>A data.frame: 6 × 4</caption>\n",
       "<thead>\n",
       "\t<tr><th></th><th scope=col>animal</th><th scope=col>variable</th><th scope=col>value</th><th scope=col>week</th></tr>\n",
       "\t<tr><th></th><th scope=col>&lt;fct&gt;</th><th scope=col>&lt;fct&gt;</th><th scope=col>&lt;dbl&gt;</th><th scope=col>&lt;int&gt;</th></tr>\n",
       "</thead>\n",
       "<tbody>\n",
       "\t<tr><th scope=row>1</th><td>0000019851067</td><td>V1</td><td>-0.019252135</td><td>1</td></tr>\n",
       "\t<tr><th scope=row>2</th><td>0000019851067</td><td>V2</td><td>-0.015650686</td><td>2</td></tr>\n",
       "\t<tr><th scope=row>3</th><td>0000019851067</td><td>V3</td><td>-0.010548811</td><td>3</td></tr>\n",
       "\t<tr><th scope=row>4</th><td>0000019851067</td><td>V4</td><td>-0.003947217</td><td>4</td></tr>\n",
       "\t<tr><th scope=row>5</th><td>0000019851067</td><td>V5</td><td> 0.004154868</td><td>5</td></tr>\n",
       "\t<tr><th scope=row>6</th><td>0000019851067</td><td>V6</td><td> 0.013756673</td><td>6</td></tr>\n",
       "</tbody>\n",
       "</table>\n"
      ],
      "text/latex": [
       "A data.frame: 6 × 4\n",
       "\\begin{tabular}{r|llll}\n",
       "  & animal & variable & value & week\\\\\n",
       "  & <fct> & <fct> & <dbl> & <int>\\\\\n",
       "\\hline\n",
       "\t1 & 0000019851067 & V1 & -0.019252135 & 1\\\\\n",
       "\t2 & 0000019851067 & V2 & -0.015650686 & 2\\\\\n",
       "\t3 & 0000019851067 & V3 & -0.010548811 & 3\\\\\n",
       "\t4 & 0000019851067 & V4 & -0.003947217 & 4\\\\\n",
       "\t5 & 0000019851067 & V5 &  0.004154868 & 5\\\\\n",
       "\t6 & 0000019851067 & V6 &  0.013756673 & 6\\\\\n",
       "\\end{tabular}\n"
      ],
      "text/markdown": [
       "\n",
       "A data.frame: 6 × 4\n",
       "\n",
       "| <!--/--> | animal &lt;fct&gt; | variable &lt;fct&gt; | value &lt;dbl&gt; | week &lt;int&gt; |\n",
       "|---|---|---|---|---|\n",
       "| 1 | 0000019851067 | V1 | -0.019252135 | 1 |\n",
       "| 2 | 0000019851067 | V2 | -0.015650686 | 2 |\n",
       "| 3 | 0000019851067 | V3 | -0.010548811 | 3 |\n",
       "| 4 | 0000019851067 | V4 | -0.003947217 | 4 |\n",
       "| 5 | 0000019851067 | V5 |  0.004154868 | 5 |\n",
       "| 6 | 0000019851067 | V6 |  0.013756673 | 6 |\n",
       "\n"
      ],
      "text/plain": [
       "  animal        variable value        week\n",
       "1 0000019851067 V1       -0.019252135 1   \n",
       "2 0000019851067 V2       -0.015650686 2   \n",
       "3 0000019851067 V3       -0.010548811 3   \n",
       "4 0000019851067 V4       -0.003947217 4   \n",
       "5 0000019851067 V5        0.004154868 5   \n",
       "6 0000019851067 V6        0.013756673 6   "
      ]
     },
     "metadata": {},
     "output_type": "display_data"
    }
   ],
   "source": [
    "head(df_effect)"
   ]
  },
  {
   "cell_type": "code",
   "execution_count": 37,
   "metadata": {},
   "outputs": [],
   "source": [
    "pheno1=merge(df_effect,pheno,by=c(\"animal\",\"week\"))\n",
    "pheno2=arrange(pheno1,animal,week)\n",
    "pheno2$y_RR = pheno2$e_RR +pheno2$value\n",
    "\n",
    "pheno2=subset(pheno2,select=-c(variable,value))\n",
    "write.table(pheno2,\"dat_correct_RRA\")"
   ]
  },
  {
   "cell_type": "code",
   "execution_count": 38,
   "metadata": {},
   "outputs": [
    {
     "data": {
      "text/html": [
       "<table>\n",
       "<caption>A data.frame: 6 × 32</caption>\n",
       "<thead>\n",
       "\t<tr><th></th><th scope=col>animal</th><th scope=col>week</th><th scope=col>identif</th><th scope=col>bande</th><th scope=col>sex</th><th scope=col>lignee</th><th scope=col>gener</th><th scope=col>loge</th><th scope=col>eleve</th><th scope=col>pds_dc</th><th scope=col>...</th><th scope=col>pe2</th><th scope=col>selec1</th><th scope=col>selec2</th><th scope=col>e_RR</th><th scope=col>e_RRss</th><th scope=col>e_SAD</th><th scope=col>e_SADss</th><th scope=col>e_MTA</th><th scope=col>e_MTH</th><th scope=col>y_RR</th></tr>\n",
       "\t<tr><th></th><th scope=col>&lt;fct&gt;</th><th scope=col>&lt;int&gt;</th><th scope=col>&lt;fct&gt;</th><th scope=col>&lt;int&gt;</th><th scope=col>&lt;int&gt;</th><th scope=col>&lt;fct&gt;</th><th scope=col>&lt;fct&gt;</th><th scope=col>&lt;int&gt;</th><th scope=col>&lt;fct&gt;</th><th scope=col>&lt;int&gt;</th><th scope=col>...</th><th scope=col>&lt;int&gt;</th><th scope=col>&lt;int&gt;</th><th scope=col>&lt;int&gt;</th><th scope=col>&lt;dbl&gt;</th><th scope=col>&lt;dbl&gt;</th><th scope=col>&lt;dbl&gt;</th><th scope=col>&lt;dbl&gt;</th><th scope=col>&lt;dbl&gt;</th><th scope=col>&lt;dbl&gt;</th><th scope=col>&lt;dbl&gt;</th></tr>\n",
       "</thead>\n",
       "<tbody>\n",
       "\t<tr><th scope=row>1</th><td>17MAG20005070</td><td>2</td><td>17MAG20005070</td><td>200011</td><td>2</td><td>n</td><td>G0</td><td>71</td><td>17MAG</td><td>25</td><td>...</td><td>1</td><td>0</td><td>1</td><td> 74.510</td><td> 74.850</td><td> 1.718e-03</td><td> 1.719e-03</td><td> 74.170</td><td> 74.060</td><td> 94.97610</td></tr>\n",
       "\t<tr><th scope=row>2</th><td>17MAG20005070</td><td>4</td><td>17MAG20005070</td><td>200011</td><td>2</td><td>n</td><td>G0</td><td>71</td><td>17MAG</td><td>25</td><td>...</td><td>2</td><td>0</td><td>1</td><td> 67.060</td><td> 67.430</td><td> 1.574e-03</td><td> 1.593e-03</td><td> 63.490</td><td> 64.150</td><td> 79.52834</td></tr>\n",
       "\t<tr><th scope=row>3</th><td>17MAG20005070</td><td>5</td><td>17MAG20005070</td><td>200011</td><td>2</td><td>n</td><td>G0</td><td>71</td><td>17MAG</td><td>25</td><td>...</td><td>2</td><td>0</td><td>1</td><td>-18.340</td><td>-17.980</td><td>-6.276e-04</td><td>-6.220e-04</td><td>-27.610</td><td>-26.970</td><td>-11.37910</td></tr>\n",
       "\t<tr><th scope=row>4</th><td>17MAG20005070</td><td>6</td><td>17MAG20005070</td><td>200011</td><td>2</td><td>n</td><td>G0</td><td>71</td><td>17MAG</td><td>25</td><td>...</td><td>3</td><td>0</td><td>1</td><td>-29.070</td><td>-28.730</td><td>-4.628e-04</td><td>-4.519e-04</td><td>-17.430</td><td>-17.220</td><td>-28.62189</td></tr>\n",
       "\t<tr><th scope=row>5</th><td>17MAG20005070</td><td>7</td><td>17MAG20005070</td><td>200011</td><td>2</td><td>n</td><td>G0</td><td>71</td><td>17MAG</td><td>25</td><td>...</td><td>3</td><td>0</td><td>1</td><td> -6.171</td><td> -5.867</td><td> 1.343e-05</td><td> 2.321e-05</td><td> -2.308</td><td> -2.115</td><td>-13.24151</td></tr>\n",
       "\t<tr><th scope=row>6</th><td>17MAG20005070</td><td>8</td><td>17MAG20005070</td><td>200011</td><td>2</td><td>n</td><td>G0</td><td>71</td><td>17MAG</td><td>25</td><td>...</td><td>3</td><td>0</td><td>1</td><td> -8.770</td><td> -8.502</td><td>-1.026e-04</td><td>-1.043e-04</td><td>-13.520</td><td>-13.330</td><td>-24.36453</td></tr>\n",
       "</tbody>\n",
       "</table>\n"
      ],
      "text/latex": [
       "A data.frame: 6 × 32\n",
       "\\begin{tabular}{r|lllllllllllllllllllll}\n",
       "  & animal & week & identif & bande & sex & lignee & gener & loge & eleve & pds\\_dc & ... & pe2 & selec1 & selec2 & e\\_RR & e\\_RRss & e\\_SAD & e\\_SADss & e\\_MTA & e\\_MTH & y\\_RR\\\\\n",
       "  & <fct> & <int> & <fct> & <int> & <int> & <fct> & <fct> & <int> & <fct> & <int> & ... & <int> & <int> & <int> & <dbl> & <dbl> & <dbl> & <dbl> & <dbl> & <dbl> & <dbl>\\\\\n",
       "\\hline\n",
       "\t1 & 17MAG20005070 & 2 & 17MAG20005070 & 200011 & 2 & n & G0 & 71 & 17MAG & 25 & ... & 1 & 0 & 1 &  74.510 &  74.850 &  1.718e-03 &  1.719e-03 &  74.170 &  74.060 &  94.97610\\\\\n",
       "\t2 & 17MAG20005070 & 4 & 17MAG20005070 & 200011 & 2 & n & G0 & 71 & 17MAG & 25 & ... & 2 & 0 & 1 &  67.060 &  67.430 &  1.574e-03 &  1.593e-03 &  63.490 &  64.150 &  79.52834\\\\\n",
       "\t3 & 17MAG20005070 & 5 & 17MAG20005070 & 200011 & 2 & n & G0 & 71 & 17MAG & 25 & ... & 2 & 0 & 1 & -18.340 & -17.980 & -6.276e-04 & -6.220e-04 & -27.610 & -26.970 & -11.37910\\\\\n",
       "\t4 & 17MAG20005070 & 6 & 17MAG20005070 & 200011 & 2 & n & G0 & 71 & 17MAG & 25 & ... & 3 & 0 & 1 & -29.070 & -28.730 & -4.628e-04 & -4.519e-04 & -17.430 & -17.220 & -28.62189\\\\\n",
       "\t5 & 17MAG20005070 & 7 & 17MAG20005070 & 200011 & 2 & n & G0 & 71 & 17MAG & 25 & ... & 3 & 0 & 1 &  -6.171 &  -5.867 &  1.343e-05 &  2.321e-05 &  -2.308 &  -2.115 & -13.24151\\\\\n",
       "\t6 & 17MAG20005070 & 8 & 17MAG20005070 & 200011 & 2 & n & G0 & 71 & 17MAG & 25 & ... & 3 & 0 & 1 &  -8.770 &  -8.502 & -1.026e-04 & -1.043e-04 & -13.520 & -13.330 & -24.36453\\\\\n",
       "\\end{tabular}\n"
      ],
      "text/markdown": [
       "\n",
       "A data.frame: 6 × 32\n",
       "\n",
       "| <!--/--> | animal &lt;fct&gt; | week &lt;int&gt; | identif &lt;fct&gt; | bande &lt;int&gt; | sex &lt;int&gt; | lignee &lt;fct&gt; | gener &lt;fct&gt; | loge &lt;int&gt; | eleve &lt;fct&gt; | pds_dc &lt;int&gt; | ... ... | pe2 &lt;int&gt; | selec1 &lt;int&gt; | selec2 &lt;int&gt; | e_RR &lt;dbl&gt; | e_RRss &lt;dbl&gt; | e_SAD &lt;dbl&gt; | e_SADss &lt;dbl&gt; | e_MTA &lt;dbl&gt; | e_MTH &lt;dbl&gt; | y_RR &lt;dbl&gt; |\n",
       "|---|---|---|---|---|---|---|---|---|---|---|---|---|---|---|---|---|---|---|---|---|---|\n",
       "| 1 | 17MAG20005070 | 2 | 17MAG20005070 | 200011 | 2 | n | G0 | 71 | 17MAG | 25 | ... | 1 | 0 | 1 |  74.510 |  74.850 |  1.718e-03 |  1.719e-03 |  74.170 |  74.060 |  94.97610 |\n",
       "| 2 | 17MAG20005070 | 4 | 17MAG20005070 | 200011 | 2 | n | G0 | 71 | 17MAG | 25 | ... | 2 | 0 | 1 |  67.060 |  67.430 |  1.574e-03 |  1.593e-03 |  63.490 |  64.150 |  79.52834 |\n",
       "| 3 | 17MAG20005070 | 5 | 17MAG20005070 | 200011 | 2 | n | G0 | 71 | 17MAG | 25 | ... | 2 | 0 | 1 | -18.340 | -17.980 | -6.276e-04 | -6.220e-04 | -27.610 | -26.970 | -11.37910 |\n",
       "| 4 | 17MAG20005070 | 6 | 17MAG20005070 | 200011 | 2 | n | G0 | 71 | 17MAG | 25 | ... | 3 | 0 | 1 | -29.070 | -28.730 | -4.628e-04 | -4.519e-04 | -17.430 | -17.220 | -28.62189 |\n",
       "| 5 | 17MAG20005070 | 7 | 17MAG20005070 | 200011 | 2 | n | G0 | 71 | 17MAG | 25 | ... | 3 | 0 | 1 |  -6.171 |  -5.867 |  1.343e-05 |  2.321e-05 |  -2.308 |  -2.115 | -13.24151 |\n",
       "| 6 | 17MAG20005070 | 8 | 17MAG20005070 | 200011 | 2 | n | G0 | 71 | 17MAG | 25 | ... | 3 | 0 | 1 |  -8.770 |  -8.502 | -1.026e-04 | -1.043e-04 | -13.520 | -13.330 | -24.36453 |\n",
       "\n"
      ],
      "text/plain": [
       "  animal        week identif       bande  sex lignee gener loge eleve pds_dc\n",
       "1 17MAG20005070 2    17MAG20005070 200011 2   n      G0    71   17MAG 25    \n",
       "2 17MAG20005070 4    17MAG20005070 200011 2   n      G0    71   17MAG 25    \n",
       "3 17MAG20005070 5    17MAG20005070 200011 2   n      G0    71   17MAG 25    \n",
       "4 17MAG20005070 6    17MAG20005070 200011 2   n      G0    71   17MAG 25    \n",
       "5 17MAG20005070 7    17MAG20005070 200011 2   n      G0    71   17MAG 25    \n",
       "6 17MAG20005070 8    17MAG20005070 200011 2   n      G0    71   17MAG 25    \n",
       "  ... pe2 selec1 selec2 e_RR    e_RRss  e_SAD      e_SADss    e_MTA   e_MTH  \n",
       "1 ... 1   0      1       74.510  74.850  1.718e-03  1.719e-03  74.170  74.060\n",
       "2 ... 2   0      1       67.060  67.430  1.574e-03  1.593e-03  63.490  64.150\n",
       "3 ... 2   0      1      -18.340 -17.980 -6.276e-04 -6.220e-04 -27.610 -26.970\n",
       "4 ... 3   0      1      -29.070 -28.730 -4.628e-04 -4.519e-04 -17.430 -17.220\n",
       "5 ... 3   0      1       -6.171  -5.867  1.343e-05  2.321e-05  -2.308  -2.115\n",
       "6 ... 3   0      1       -8.770  -8.502 -1.026e-04 -1.043e-04 -13.520 -13.330\n",
       "  y_RR     \n",
       "1  94.97610\n",
       "2  79.52834\n",
       "3 -11.37910\n",
       "4 -28.62189\n",
       "5 -13.24151\n",
       "6 -24.36453"
      ]
     },
     "metadata": {},
     "output_type": "display_data"
    },
    {
     "data": {
      "text/plain": [
       "           animal           week                 identif          bande       \n",
       " 17MAG20005072:   10   Min.   : 1.000   17MAG20005072:   10   Min.   :200011  \n",
       " 17MAG20005146:   10   1st Qu.: 3.000   17MAG20005146:   10   1st Qu.:200406  \n",
       " 17MAG20005197:   10   Median : 5.000   17MAG20005197:   10   Median :200612  \n",
       " 17MAG20005251:   10   Mean   : 5.468   17MAG20005251:   10   Mean   :200613  \n",
       " 17MAG20005297:   10   3rd Qu.: 8.000   17MAG20005297:   10   3rd Qu.:200812  \n",
       " 17MAG20005301:   10   Max.   :10.000   17MAG20005301:   10   Max.   :201111  \n",
       " (Other)      :22893                    (Other)      :22893                   \n",
       "      sex        lignee        gener           loge          eleve      \n",
       " Min.   :1.000   -:11744   G7     :4970   Min.   : 71.00   17MAG:13355  \n",
       " 1st Qu.:2.000   +:10456   G6     :3748   1st Qu.: 81.00   86001: 9598  \n",
       " Median :2.000   n:  753   G5     :3218   Median : 91.00                \n",
       " Mean   :2.016             G4     :3107   Mean   : 87.89                \n",
       " 3rd Qu.:3.000             G3     :2892   3rd Qu.:101.00                \n",
       " Max.   :3.000             G2     :2732   Max.   :104.00                \n",
       "                           (Other):2286                                 \n",
       "     pds_dc          pds_fc           age              BW      \n",
       " Min.   :15.00   Min.   : 65.0   Min.   : 80.0   Min.   :  26  \n",
       " 1st Qu.:24.00   1st Qu.:106.0   1st Qu.:102.0   1st Qu.:  61  \n",
       " Median :26.00   Median :111.0   Median :119.0   Median :  86  \n",
       " Mean   :26.57   Mean   :111.3   Mean   :119.6   Mean   :3952  \n",
       " 3rd Qu.:29.00   3rd Qu.:116.0   3rd Qu.:137.0   3rd Qu.:9999  \n",
       " Max.   :42.00   Max.   :146.0   Max.   :156.0   Max.   :9999  \n",
       "                                                               \n",
       "     BWpre            age_dc          temps             FCR        \n",
       " Min.   : 23.00   Min.   :59.00   Min.   : 1.000   Min.   :0.9953  \n",
       " 1st Qu.: 50.50   1st Qu.:67.00   1st Qu.: 3.000   1st Qu.:2.2712  \n",
       " Median : 65.00   Median :67.00   Median : 5.000   Median :2.5370  \n",
       " Mean   : 65.44   Mean   :67.28   Mean   : 5.468   Mean   :2.6284  \n",
       " 3rd Qu.: 80.00   3rd Qu.:68.00   3rd Qu.: 8.000   3rd Qu.:2.8866  \n",
       " Max.   :121.75   Max.   :72.00   Max.   :10.000   Max.   :7.5992  \n",
       "                                                                   \n",
       "      ADG              AMBW              BF               FI        \n",
       " Min.   : 33.93   Min.   : 71.04   Min.   : 47.67   Min.   : 76.86  \n",
       " 1st Qu.: 71.43   1st Qu.:105.49   1st Qu.: 92.38   1st Qu.:180.94  \n",
       " Median : 82.14   Median :122.16   Median :108.50   Median :211.86  \n",
       " Mean   : 81.75   Mean   :121.73   Mean   :111.77   Mean   :212.50  \n",
       " 3rd Qu.: 91.07   3rd Qu.:138.00   3rd Qu.:127.50   3rd Qu.:242.84  \n",
       " Max.   :132.14   Max.   :173.63   Max.   :218.33   Max.   :357.12  \n",
       "                                                                    \n",
       "      RFI                  pe2            selec1           selec2      \n",
       " Min.   :-152.96138   Min.   :1.000   Min.   :0.0000   Min.   :0.0000  \n",
       " 1st Qu.: -15.03655   1st Qu.:2.000   1st Qu.:0.0000   1st Qu.:0.0000  \n",
       " Median :   0.00099   Median :2.000   Median :0.0000   Median :1.0000  \n",
       " Mean   :  -0.00501   Mean   :2.489   Mean   :0.4555   Mean   :0.6202  \n",
       " 3rd Qu.:  15.32705   3rd Qu.:3.000   3rd Qu.:1.0000   3rd Qu.:1.0000  \n",
       " Max.   : 116.90659   Max.   :4.000   Max.   :1.0000   Max.   :1.0000  \n",
       "                                                                       \n",
       "      e_RR                e_RRss               e_SAD           \n",
       " Min.   :-123.80000   Min.   :-123.50000   Min.   :-2.883e-03  \n",
       " 1st Qu.: -10.63000   1st Qu.: -10.62000   1st Qu.:-2.638e-04  \n",
       " Median :   0.58720   Median :   0.54760   Median : 1.217e-05  \n",
       " Mean   :   0.04849   Mean   :   0.04914   Mean   : 3.000e-10  \n",
       " 3rd Qu.:  11.59000   3rd Qu.:  11.62000   3rd Qu.: 2.852e-04  \n",
       " Max.   :  99.06000   Max.   :  98.81000   Max.   : 2.604e-03  \n",
       "                                                               \n",
       "    e_SADss               e_MTA                e_MTH           \n",
       " Min.   :-2.858e-03   Min.   :-110.10000   Min.   :-110.10000  \n",
       " 1st Qu.:-2.633e-04   1st Qu.: -10.37000   1st Qu.: -10.39000  \n",
       " Median : 1.245e-05   Median :   0.57360   Median :   0.55620  \n",
       " Mean   : 1.000e-10   Mean   :   0.04601   Mean   :   0.04663  \n",
       " 3rd Qu.: 2.848e-04   3rd Qu.:  11.24000   3rd Qu.:  11.18000  \n",
       " Max.   : 2.560e-03   Max.   :  97.13000   Max.   :  96.81000  \n",
       "                                                               \n",
       "      y_RR          \n",
       " Min.   :-149.1167  \n",
       " 1st Qu.: -15.0340  \n",
       " Median :   0.1818  \n",
       " Mean   :   0.1705  \n",
       " 3rd Qu.:  15.7488  \n",
       " Max.   : 116.8624  \n",
       "                    "
      ]
     },
     "metadata": {},
     "output_type": "display_data"
    }
   ],
   "source": [
    "head(pheno2)\n",
    "summary(pheno2)"
   ]
  },
  {
   "cell_type": "markdown",
   "metadata": {},
   "source": [
    "## Random regression models with matrix H"
   ]
  },
  {
   "cell_type": "code",
   "execution_count": 39,
   "metadata": {},
   "outputs": [],
   "source": [
    "# Random regression model with matrix H\n",
    "#rm(list = ls()) # ecrase previous memories\n",
    "###############################################################################################\n",
    "pheno2=read.table(\"dat_correct_RRA\")\n",
    "\n",
    "\n",
    "sln_RRHe <- read.table(\"ide_RRH\",quote=\"\\\"\") # Permanental random effect\n",
    "sln_RRHg <- read.table(\"sln_RRH\",quote=\"\\\"\") # Genetic random effect\n",
    "sln_RRHg$V3=sln_RRHe$V3 + sln_RRHg$V3\n",
    "\n",
    "# sln <- read.table(\"C:/Users/vhtran/Google Drive/these/RFI/INRA/validation/ide_RRA\",quote=\"\\\"\") # \n",
    "# sln_1 <- read.table(\"C:/Users/vhtran/Google Drive/these/RFI/INRA/validation/sln_RRA\",quote=\"\\\"\") \n",
    "m_RRH <- as.data.frame(matrix( unlist( strsplit(as.character(sln_RRHg$V2)  , \"\\\\.\" ) ) , ncol = 2 , byrow = TRUE ))\n",
    "sln_RRHg=cbind(sln_RRHg,m_RRH)\n",
    "names(sln_RRHg)<-c(\"kk\",\"a\",\"para\",\"SE\",\"gr\",\"animal\")\n",
    "\n"
   ]
  },
  {
   "cell_type": "code",
   "execution_count": 40,
   "metadata": {},
   "outputs": [
    {
     "data": {
      "text/html": [
       "<table>\n",
       "<caption>A data.frame: 6 × 6</caption>\n",
       "<thead>\n",
       "\t<tr><th></th><th scope=col>kk</th><th scope=col>a</th><th scope=col>para</th><th scope=col>SE</th><th scope=col>gr</th><th scope=col>animal</th></tr>\n",
       "\t<tr><th></th><th scope=col>&lt;fct&gt;</th><th scope=col>&lt;fct&gt;</th><th scope=col>&lt;dbl&gt;</th><th scope=col>&lt;dbl&gt;</th><th scope=col>&lt;fct&gt;</th><th scope=col>&lt;fct&gt;</th></tr>\n",
       "</thead>\n",
       "<tbody>\n",
       "\t<tr><th scope=row>1</th><td>leg(temps,2).giv(ani</td><td>1.17M3019830268</td><td>-0.11520</td><td>8.057</td><td>1</td><td>17M3019830268</td></tr>\n",
       "\t<tr><th scope=row>2</th><td>leg(temps,2).giv(ani</td><td>1.17M3019830280</td><td>-0.00814</td><td>8.057</td><td>1</td><td>17M3019830280</td></tr>\n",
       "\t<tr><th scope=row>3</th><td>leg(temps,2).giv(ani</td><td>1.17M3019830492</td><td>-0.05354</td><td>8.057</td><td>1</td><td>17M3019830492</td></tr>\n",
       "\t<tr><th scope=row>4</th><td>leg(temps,2).giv(ani</td><td>1.17M3019830508</td><td>-0.05354</td><td>8.057</td><td>1</td><td>17M3019830508</td></tr>\n",
       "\t<tr><th scope=row>5</th><td>leg(temps,2).giv(ani</td><td>1.17M3019840010</td><td>-0.06982</td><td>8.057</td><td>1</td><td>17M3019840010</td></tr>\n",
       "\t<tr><th scope=row>6</th><td>leg(temps,2).giv(ani</td><td>1.17M3019840036</td><td>-0.10710</td><td>8.057</td><td>1</td><td>17M3019840036</td></tr>\n",
       "</tbody>\n",
       "</table>\n"
      ],
      "text/latex": [
       "A data.frame: 6 × 6\n",
       "\\begin{tabular}{r|llllll}\n",
       "  & kk & a & para & SE & gr & animal\\\\\n",
       "  & <fct> & <fct> & <dbl> & <dbl> & <fct> & <fct>\\\\\n",
       "\\hline\n",
       "\t1 & leg(temps,2).giv(ani & 1.17M3019830268 & -0.11520 & 8.057 & 1 & 17M3019830268\\\\\n",
       "\t2 & leg(temps,2).giv(ani & 1.17M3019830280 & -0.00814 & 8.057 & 1 & 17M3019830280\\\\\n",
       "\t3 & leg(temps,2).giv(ani & 1.17M3019830492 & -0.05354 & 8.057 & 1 & 17M3019830492\\\\\n",
       "\t4 & leg(temps,2).giv(ani & 1.17M3019830508 & -0.05354 & 8.057 & 1 & 17M3019830508\\\\\n",
       "\t5 & leg(temps,2).giv(ani & 1.17M3019840010 & -0.06982 & 8.057 & 1 & 17M3019840010\\\\\n",
       "\t6 & leg(temps,2).giv(ani & 1.17M3019840036 & -0.10710 & 8.057 & 1 & 17M3019840036\\\\\n",
       "\\end{tabular}\n"
      ],
      "text/markdown": [
       "\n",
       "A data.frame: 6 × 6\n",
       "\n",
       "| <!--/--> | kk &lt;fct&gt; | a &lt;fct&gt; | para &lt;dbl&gt; | SE &lt;dbl&gt; | gr &lt;fct&gt; | animal &lt;fct&gt; |\n",
       "|---|---|---|---|---|---|---|\n",
       "| 1 | leg(temps,2).giv(ani | 1.17M3019830268 | -0.11520 | 8.057 | 1 | 17M3019830268 |\n",
       "| 2 | leg(temps,2).giv(ani | 1.17M3019830280 | -0.00814 | 8.057 | 1 | 17M3019830280 |\n",
       "| 3 | leg(temps,2).giv(ani | 1.17M3019830492 | -0.05354 | 8.057 | 1 | 17M3019830492 |\n",
       "| 4 | leg(temps,2).giv(ani | 1.17M3019830508 | -0.05354 | 8.057 | 1 | 17M3019830508 |\n",
       "| 5 | leg(temps,2).giv(ani | 1.17M3019840010 | -0.06982 | 8.057 | 1 | 17M3019840010 |\n",
       "| 6 | leg(temps,2).giv(ani | 1.17M3019840036 | -0.10710 | 8.057 | 1 | 17M3019840036 |\n",
       "\n"
      ],
      "text/plain": [
       "  kk                   a               para     SE    gr animal       \n",
       "1 leg(temps,2).giv(ani 1.17M3019830268 -0.11520 8.057 1  17M3019830268\n",
       "2 leg(temps,2).giv(ani 1.17M3019830280 -0.00814 8.057 1  17M3019830280\n",
       "3 leg(temps,2).giv(ani 1.17M3019830492 -0.05354 8.057 1  17M3019830492\n",
       "4 leg(temps,2).giv(ani 1.17M3019830508 -0.05354 8.057 1  17M3019830508\n",
       "5 leg(temps,2).giv(ani 1.17M3019840010 -0.06982 8.057 1  17M3019840010\n",
       "6 leg(temps,2).giv(ani 1.17M3019840036 -0.10710 8.057 1  17M3019840036"
      ]
     },
     "metadata": {},
     "output_type": "display_data"
    }
   ],
   "source": [
    "head(sln_RRHg)"
   ]
  },
  {
   "cell_type": "code",
   "execution_count": 41,
   "metadata": {},
   "outputs": [
    {
     "data": {
      "text/html": [
       "<table>\n",
       "<caption>A data.frame: 6 × 9</caption>\n",
       "<thead>\n",
       "\t<tr><th></th><th scope=col>kk</th><th scope=col>a</th><th scope=col>para</th><th scope=col>SE</th><th scope=col>gr</th><th scope=col>animal</th><th scope=col>para1</th><th scope=col>para2</th><th scope=col>para3</th></tr>\n",
       "\t<tr><th></th><th scope=col>&lt;fct&gt;</th><th scope=col>&lt;fct&gt;</th><th scope=col>&lt;dbl&gt;</th><th scope=col>&lt;dbl&gt;</th><th scope=col>&lt;fct&gt;</th><th scope=col>&lt;fct&gt;</th><th scope=col>&lt;dbl&gt;</th><th scope=col>&lt;dbl&gt;</th><th scope=col>&lt;dbl&gt;</th></tr>\n",
       "</thead>\n",
       "<tbody>\n",
       "\t<tr><th scope=row>1</th><td>leg(temps,2).giv(ani</td><td>1.0000019851067</td><td> 0.018410</td><td>8.057</td><td>1</td><td>0000019851067</td><td> 0.01841</td><td> 0.00000</td><td>0.000000</td></tr>\n",
       "\t<tr><th scope=row>2</th><td>leg(temps,2).giv(ani</td><td>2.0000019851067</td><td> 0.031990</td><td>7.319</td><td>2</td><td>0000019851067</td><td> 0.00000</td><td> 0.03199</td><td>0.000000</td></tr>\n",
       "\t<tr><th scope=row>3</th><td>leg(temps,2).giv(ani</td><td>3.0000019851067</td><td> 0.004749</td><td>3.771</td><td>3</td><td>0000019851067</td><td> 0.00000</td><td> 0.00000</td><td>0.004749</td></tr>\n",
       "\t<tr><th scope=row>4</th><td>leg(temps,2).giv(ani</td><td>1.0000019858909</td><td>-0.243100</td><td>8.059</td><td>1</td><td>0000019858909</td><td>-0.24310</td><td> 0.00000</td><td>0.000000</td></tr>\n",
       "\t<tr><th scope=row>5</th><td>leg(temps,2).giv(ani</td><td>2.0000019858909</td><td>-0.397000</td><td>7.320</td><td>2</td><td>0000019858909</td><td> 0.00000</td><td>-0.39700</td><td>0.000000</td></tr>\n",
       "\t<tr><th scope=row>6</th><td>leg(temps,2).giv(ani</td><td>3.0000019858909</td><td> 0.016640</td><td>3.771</td><td>3</td><td>0000019858909</td><td> 0.00000</td><td> 0.00000</td><td>0.016640</td></tr>\n",
       "</tbody>\n",
       "</table>\n"
      ],
      "text/latex": [
       "A data.frame: 6 × 9\n",
       "\\begin{tabular}{r|lllllllll}\n",
       "  & kk & a & para & SE & gr & animal & para1 & para2 & para3\\\\\n",
       "  & <fct> & <fct> & <dbl> & <dbl> & <fct> & <fct> & <dbl> & <dbl> & <dbl>\\\\\n",
       "\\hline\n",
       "\t1 & leg(temps,2).giv(ani & 1.0000019851067 &  0.018410 & 8.057 & 1 & 0000019851067 &  0.01841 &  0.00000 & 0.000000\\\\\n",
       "\t2 & leg(temps,2).giv(ani & 2.0000019851067 &  0.031990 & 7.319 & 2 & 0000019851067 &  0.00000 &  0.03199 & 0.000000\\\\\n",
       "\t3 & leg(temps,2).giv(ani & 3.0000019851067 &  0.004749 & 3.771 & 3 & 0000019851067 &  0.00000 &  0.00000 & 0.004749\\\\\n",
       "\t4 & leg(temps,2).giv(ani & 1.0000019858909 & -0.243100 & 8.059 & 1 & 0000019858909 & -0.24310 &  0.00000 & 0.000000\\\\\n",
       "\t5 & leg(temps,2).giv(ani & 2.0000019858909 & -0.397000 & 7.320 & 2 & 0000019858909 &  0.00000 & -0.39700 & 0.000000\\\\\n",
       "\t6 & leg(temps,2).giv(ani & 3.0000019858909 &  0.016640 & 3.771 & 3 & 0000019858909 &  0.00000 &  0.00000 & 0.016640\\\\\n",
       "\\end{tabular}\n"
      ],
      "text/markdown": [
       "\n",
       "A data.frame: 6 × 9\n",
       "\n",
       "| <!--/--> | kk &lt;fct&gt; | a &lt;fct&gt; | para &lt;dbl&gt; | SE &lt;dbl&gt; | gr &lt;fct&gt; | animal &lt;fct&gt; | para1 &lt;dbl&gt; | para2 &lt;dbl&gt; | para3 &lt;dbl&gt; |\n",
       "|---|---|---|---|---|---|---|---|---|---|\n",
       "| 1 | leg(temps,2).giv(ani | 1.0000019851067 |  0.018410 | 8.057 | 1 | 0000019851067 |  0.01841 |  0.00000 | 0.000000 |\n",
       "| 2 | leg(temps,2).giv(ani | 2.0000019851067 |  0.031990 | 7.319 | 2 | 0000019851067 |  0.00000 |  0.03199 | 0.000000 |\n",
       "| 3 | leg(temps,2).giv(ani | 3.0000019851067 |  0.004749 | 3.771 | 3 | 0000019851067 |  0.00000 |  0.00000 | 0.004749 |\n",
       "| 4 | leg(temps,2).giv(ani | 1.0000019858909 | -0.243100 | 8.059 | 1 | 0000019858909 | -0.24310 |  0.00000 | 0.000000 |\n",
       "| 5 | leg(temps,2).giv(ani | 2.0000019858909 | -0.397000 | 7.320 | 2 | 0000019858909 |  0.00000 | -0.39700 | 0.000000 |\n",
       "| 6 | leg(temps,2).giv(ani | 3.0000019858909 |  0.016640 | 3.771 | 3 | 0000019858909 |  0.00000 |  0.00000 | 0.016640 |\n",
       "\n"
      ],
      "text/plain": [
       "  kk                   a               para      SE    gr animal       \n",
       "1 leg(temps,2).giv(ani 1.0000019851067  0.018410 8.057 1  0000019851067\n",
       "2 leg(temps,2).giv(ani 2.0000019851067  0.031990 7.319 2  0000019851067\n",
       "3 leg(temps,2).giv(ani 3.0000019851067  0.004749 3.771 3  0000019851067\n",
       "4 leg(temps,2).giv(ani 1.0000019858909 -0.243100 8.059 1  0000019858909\n",
       "5 leg(temps,2).giv(ani 2.0000019858909 -0.397000 7.320 2  0000019858909\n",
       "6 leg(temps,2).giv(ani 3.0000019858909  0.016640 3.771 3  0000019858909\n",
       "  para1    para2    para3   \n",
       "1  0.01841  0.00000 0.000000\n",
       "2  0.00000  0.03199 0.000000\n",
       "3  0.00000  0.00000 0.004749\n",
       "4 -0.24310  0.00000 0.000000\n",
       "5  0.00000 -0.39700 0.000000\n",
       "6  0.00000  0.00000 0.016640"
      ]
     },
     "metadata": {},
     "output_type": "display_data"
    }
   ],
   "source": [
    "sln_RRHg$para1=ifelse(sln_RRHg$gr==1,sln_RRHg$para,0)  \n",
    "sln_RRHg$para2=ifelse(sln_RRHg$gr==2,sln_RRHg$para,0) \n",
    "sln_RRHg$para3=ifelse(sln_RRHg$gr==3,sln_RRHg$para,0)  \n",
    "sln_RRHg=arrange(sln_RRHg,animal,gr)  \n",
    "head(sln_RRHg)\n"
   ]
  },
  {
   "cell_type": "code",
   "execution_count": 42,
   "metadata": {},
   "outputs": [],
   "source": [
    "SLN_RRH=sln_RRHg[,c(\"animal\",\"gr\",\"para\")]\n",
    "SLN_RRH1=arrange(SLN_RRH,animal,gr)\n",
    "#SLN2=reshape(SLN1, timevar = \"gr\",idvar = \"animal\",direction=\"wide\",sep=\"\")\n",
    "SLN_RRH2=reshape(SLN_RRH1,varying = NULL, timevar = \"gr\",idvar = \"animal\",direction=\"wide\",sep=\"\")\n",
    "SLN_RRH3=arrange(SLN_RRH2,animal)\n",
    "\n",
    "\n",
    "\n",
    "SLN_RRH4=SLN_RRH3[,2:4]\n",
    "SLN_RRH5=as.matrix(SLN_RRH4)\n",
    "EBV_all1=as.data.frame((SLN_RRH5)%*%(Temp))\n",
    "EBV_all1$animal=SLN_RRH2$animal"
   ]
  },
  {
   "cell_type": "code",
   "execution_count": 43,
   "metadata": {},
   "outputs": [
    {
     "data": {
      "text/html": [
       "<table>\n",
       "<caption>A data.frame: 6 × 11</caption>\n",
       "<thead>\n",
       "\t<tr><th></th><th scope=col>V1</th><th scope=col>V2</th><th scope=col>V3</th><th scope=col>V4</th><th scope=col>V5</th><th scope=col>V6</th><th scope=col>V7</th><th scope=col>V8</th><th scope=col>V9</th><th scope=col>V10</th><th scope=col>animal</th></tr>\n",
       "\t<tr><th></th><th scope=col>&lt;dbl&gt;</th><th scope=col>&lt;dbl&gt;</th><th scope=col>&lt;dbl&gt;</th><th scope=col>&lt;dbl&gt;</th><th scope=col>&lt;dbl&gt;</th><th scope=col>&lt;dbl&gt;</th><th scope=col>&lt;dbl&gt;</th><th scope=col>&lt;dbl&gt;</th><th scope=col>&lt;dbl&gt;</th><th scope=col>&lt;dbl&gt;</th><th scope=col>&lt;fct&gt;</th></tr>\n",
       "</thead>\n",
       "<tbody>\n",
       "\t<tr><th scope=row>1</th><td>-0.01865270</td><td>-0.01439598</td><td>-0.009026522</td><td>-0.002544983</td><td> 0.00504933</td><td> 0.01375573</td><td> 0.02357485</td><td> 0.03450611</td><td> 0.04655009</td><td> 0.05970616</td><td>0000019851067</td></tr>\n",
       "\t<tr><th scope=row>2</th><td> 0.34063351</td><td> 0.21699481</td><td> 0.097249891</td><td>-0.018593303</td><td>-0.13054255</td><td>-0.23859007</td><td>-0.34274380</td><td>-0.44299565</td><td>-0.53935371</td><td>-0.63181005</td><td>0000019858909</td></tr>\n",
       "\t<tr><th scope=row>3</th><td>-0.01865270</td><td>-0.01439598</td><td>-0.009026522</td><td>-0.002544983</td><td> 0.00504933</td><td> 0.01375573</td><td> 0.02357485</td><td> 0.03450611</td><td> 0.04655009</td><td> 0.05970616</td><td>0000019858971</td></tr>\n",
       "\t<tr><th scope=row>4</th><td> 0.05959042</td><td> 0.03349862</td><td> 0.010659931</td><td>-0.008924683</td><td>-0.02525605</td><td>-0.03833333</td><td>-0.04815751</td><td>-0.05472747</td><td>-0.05804432</td><td>-0.05810709</td><td>0000019859155</td></tr>\n",
       "\t<tr><th scope=row>5</th><td> 0.26493798</td><td> 0.21916376</td><td> 0.175319683</td><td> 0.133408547</td><td> 0.09342764</td><td> 0.05537967</td><td> 0.01926185</td><td>-0.01492295</td><td>-0.04717761</td><td>-0.07749932</td><td>0000019860769</td></tr>\n",
       "\t<tr><th scope=row>6</th><td> 0.26493798</td><td> 0.21916376</td><td> 0.175319683</td><td> 0.133408547</td><td> 0.09342764</td><td> 0.05537967</td><td> 0.01926185</td><td>-0.01492295</td><td>-0.04717761</td><td>-0.07749932</td><td>0000019860909</td></tr>\n",
       "</tbody>\n",
       "</table>\n"
      ],
      "text/latex": [
       "A data.frame: 6 × 11\n",
       "\\begin{tabular}{r|lllllllllll}\n",
       "  & V1 & V2 & V3 & V4 & V5 & V6 & V7 & V8 & V9 & V10 & animal\\\\\n",
       "  & <dbl> & <dbl> & <dbl> & <dbl> & <dbl> & <dbl> & <dbl> & <dbl> & <dbl> & <dbl> & <fct>\\\\\n",
       "\\hline\n",
       "\t1 & -0.01865270 & -0.01439598 & -0.009026522 & -0.002544983 &  0.00504933 &  0.01375573 &  0.02357485 &  0.03450611 &  0.04655009 &  0.05970616 & 0000019851067\\\\\n",
       "\t2 &  0.34063351 &  0.21699481 &  0.097249891 & -0.018593303 & -0.13054255 & -0.23859007 & -0.34274380 & -0.44299565 & -0.53935371 & -0.63181005 & 0000019858909\\\\\n",
       "\t3 & -0.01865270 & -0.01439598 & -0.009026522 & -0.002544983 &  0.00504933 &  0.01375573 &  0.02357485 &  0.03450611 &  0.04655009 &  0.05970616 & 0000019858971\\\\\n",
       "\t4 &  0.05959042 &  0.03349862 &  0.010659931 & -0.008924683 & -0.02525605 & -0.03833333 & -0.04815751 & -0.05472747 & -0.05804432 & -0.05810709 & 0000019859155\\\\\n",
       "\t5 &  0.26493798 &  0.21916376 &  0.175319683 &  0.133408547 &  0.09342764 &  0.05537967 &  0.01926185 & -0.01492295 & -0.04717761 & -0.07749932 & 0000019860769\\\\\n",
       "\t6 &  0.26493798 &  0.21916376 &  0.175319683 &  0.133408547 &  0.09342764 &  0.05537967 &  0.01926185 & -0.01492295 & -0.04717761 & -0.07749932 & 0000019860909\\\\\n",
       "\\end{tabular}\n"
      ],
      "text/markdown": [
       "\n",
       "A data.frame: 6 × 11\n",
       "\n",
       "| <!--/--> | V1 &lt;dbl&gt; | V2 &lt;dbl&gt; | V3 &lt;dbl&gt; | V4 &lt;dbl&gt; | V5 &lt;dbl&gt; | V6 &lt;dbl&gt; | V7 &lt;dbl&gt; | V8 &lt;dbl&gt; | V9 &lt;dbl&gt; | V10 &lt;dbl&gt; | animal &lt;fct&gt; |\n",
       "|---|---|---|---|---|---|---|---|---|---|---|---|\n",
       "| 1 | -0.01865270 | -0.01439598 | -0.009026522 | -0.002544983 |  0.00504933 |  0.01375573 |  0.02357485 |  0.03450611 |  0.04655009 |  0.05970616 | 0000019851067 |\n",
       "| 2 |  0.34063351 |  0.21699481 |  0.097249891 | -0.018593303 | -0.13054255 | -0.23859007 | -0.34274380 | -0.44299565 | -0.53935371 | -0.63181005 | 0000019858909 |\n",
       "| 3 | -0.01865270 | -0.01439598 | -0.009026522 | -0.002544983 |  0.00504933 |  0.01375573 |  0.02357485 |  0.03450611 |  0.04655009 |  0.05970616 | 0000019858971 |\n",
       "| 4 |  0.05959042 |  0.03349862 |  0.010659931 | -0.008924683 | -0.02525605 | -0.03833333 | -0.04815751 | -0.05472747 | -0.05804432 | -0.05810709 | 0000019859155 |\n",
       "| 5 |  0.26493798 |  0.21916376 |  0.175319683 |  0.133408547 |  0.09342764 |  0.05537967 |  0.01926185 | -0.01492295 | -0.04717761 | -0.07749932 | 0000019860769 |\n",
       "| 6 |  0.26493798 |  0.21916376 |  0.175319683 |  0.133408547 |  0.09342764 |  0.05537967 |  0.01926185 | -0.01492295 | -0.04717761 | -0.07749932 | 0000019860909 |\n",
       "\n"
      ],
      "text/plain": [
       "  V1          V2          V3           V4           V5          V6         \n",
       "1 -0.01865270 -0.01439598 -0.009026522 -0.002544983  0.00504933  0.01375573\n",
       "2  0.34063351  0.21699481  0.097249891 -0.018593303 -0.13054255 -0.23859007\n",
       "3 -0.01865270 -0.01439598 -0.009026522 -0.002544983  0.00504933  0.01375573\n",
       "4  0.05959042  0.03349862  0.010659931 -0.008924683 -0.02525605 -0.03833333\n",
       "5  0.26493798  0.21916376  0.175319683  0.133408547  0.09342764  0.05537967\n",
       "6  0.26493798  0.21916376  0.175319683  0.133408547  0.09342764  0.05537967\n",
       "  V7          V8          V9          V10         animal       \n",
       "1  0.02357485  0.03450611  0.04655009  0.05970616 0000019851067\n",
       "2 -0.34274380 -0.44299565 -0.53935371 -0.63181005 0000019858909\n",
       "3  0.02357485  0.03450611  0.04655009  0.05970616 0000019858971\n",
       "4 -0.04815751 -0.05472747 -0.05804432 -0.05810709 0000019859155\n",
       "5  0.01926185 -0.01492295 -0.04717761 -0.07749932 0000019860769\n",
       "6  0.01926185 -0.01492295 -0.04717761 -0.07749932 0000019860909"
      ]
     },
     "metadata": {},
     "output_type": "display_data"
    }
   ],
   "source": [
    "head(EBV_all1)"
   ]
  },
  {
   "cell_type": "code",
   "execution_count": 44,
   "metadata": {},
   "outputs": [],
   "source": [
    "df_effect1=melt(EBV_all1, \n",
    "               id.vars = \"animal\", \n",
    "               measure.vars = c(\"V1\", \"V2\",\"V3\",\"V4\",\"V5\",\"V6\",\"V7\",\"V8\",\"V9\",\"V10\"))\n",
    "\n",
    "df_effect1= arrange(df_effect1,animal,variable)\n",
    "df_effect1$week=c(rep(1:10,3986))\n",
    "\n",
    "# combine the last dataset pheno2 with EBV from RR with matrix H\n",
    "pheno3=merge(df_effect1,pheno2,by=c(\"animal\",\"week\"))\n",
    "pheno4=arrange(pheno3,animal,week)\n",
    "pheno4$y_RRH = pheno4$e_RRss+pheno4$value\n",
    "pheno4=subset(pheno4,select=-c(variable,value))\n",
    "\n",
    "#write.table(pheno4,\"dat_correct_RRA_RRH\")"
   ]
  },
  {
   "cell_type": "code",
   "execution_count": 45,
   "metadata": {},
   "outputs": [
    {
     "data": {
      "text/html": [
       "<table>\n",
       "<caption>A data.frame: 6 × 33</caption>\n",
       "<thead>\n",
       "\t<tr><th></th><th scope=col>animal</th><th scope=col>week</th><th scope=col>identif</th><th scope=col>bande</th><th scope=col>sex</th><th scope=col>lignee</th><th scope=col>gener</th><th scope=col>loge</th><th scope=col>eleve</th><th scope=col>pds_dc</th><th scope=col>...</th><th scope=col>selec1</th><th scope=col>selec2</th><th scope=col>e_RR</th><th scope=col>e_RRss</th><th scope=col>e_SAD</th><th scope=col>e_SADss</th><th scope=col>e_MTA</th><th scope=col>e_MTH</th><th scope=col>y_RR</th><th scope=col>y_RRH</th></tr>\n",
       "\t<tr><th></th><th scope=col>&lt;fct&gt;</th><th scope=col>&lt;int&gt;</th><th scope=col>&lt;fct&gt;</th><th scope=col>&lt;int&gt;</th><th scope=col>&lt;int&gt;</th><th scope=col>&lt;fct&gt;</th><th scope=col>&lt;fct&gt;</th><th scope=col>&lt;int&gt;</th><th scope=col>&lt;fct&gt;</th><th scope=col>&lt;int&gt;</th><th scope=col>...</th><th scope=col>&lt;int&gt;</th><th scope=col>&lt;int&gt;</th><th scope=col>&lt;dbl&gt;</th><th scope=col>&lt;dbl&gt;</th><th scope=col>&lt;dbl&gt;</th><th scope=col>&lt;dbl&gt;</th><th scope=col>&lt;dbl&gt;</th><th scope=col>&lt;dbl&gt;</th><th scope=col>&lt;dbl&gt;</th><th scope=col>&lt;dbl&gt;</th></tr>\n",
       "</thead>\n",
       "<tbody>\n",
       "\t<tr><th scope=row>1</th><td>17MAG20005070</td><td>2</td><td>17MAG20005070</td><td>200011</td><td>2</td><td>n</td><td>G0</td><td>71</td><td>17MAG</td><td>25</td><td>...</td><td>0</td><td>1</td><td> 74.510</td><td> 74.850</td><td> 1.718e-03</td><td> 1.719e-03</td><td> 74.170</td><td> 74.060</td><td> 94.97610</td><td> 95.87767</td></tr>\n",
       "\t<tr><th scope=row>2</th><td>17MAG20005070</td><td>4</td><td>17MAG20005070</td><td>200011</td><td>2</td><td>n</td><td>G0</td><td>71</td><td>17MAG</td><td>25</td><td>...</td><td>0</td><td>1</td><td> 67.060</td><td> 67.430</td><td> 1.574e-03</td><td> 1.593e-03</td><td> 63.490</td><td> 64.150</td><td> 79.52834</td><td> 79.07920</td></tr>\n",
       "\t<tr><th scope=row>3</th><td>17MAG20005070</td><td>5</td><td>17MAG20005070</td><td>200011</td><td>2</td><td>n</td><td>G0</td><td>71</td><td>17MAG</td><td>25</td><td>...</td><td>0</td><td>1</td><td>-18.340</td><td>-17.980</td><td>-6.276e-04</td><td>-6.220e-04</td><td>-27.610</td><td>-26.970</td><td>-11.37910</td><td>-12.41159</td></tr>\n",
       "\t<tr><th scope=row>4</th><td>17MAG20005070</td><td>6</td><td>17MAG20005070</td><td>200011</td><td>2</td><td>n</td><td>G0</td><td>71</td><td>17MAG</td><td>25</td><td>...</td><td>0</td><td>1</td><td>-29.070</td><td>-28.730</td><td>-4.628e-04</td><td>-4.519e-04</td><td>-17.430</td><td>-17.220</td><td>-28.62189</td><td>-30.16971</td></tr>\n",
       "\t<tr><th scope=row>5</th><td>17MAG20005070</td><td>7</td><td>17MAG20005070</td><td>200011</td><td>2</td><td>n</td><td>G0</td><td>71</td><td>17MAG</td><td>25</td><td>...</td><td>0</td><td>1</td><td> -6.171</td><td> -5.867</td><td> 1.343e-05</td><td> 2.321e-05</td><td> -2.308</td><td> -2.115</td><td>-13.24151</td><td>-15.24268</td></tr>\n",
       "\t<tr><th scope=row>6</th><td>17MAG20005070</td><td>8</td><td>17MAG20005070</td><td>200011</td><td>2</td><td>n</td><td>G0</td><td>71</td><td>17MAG</td><td>25</td><td>...</td><td>0</td><td>1</td><td> -8.770</td><td> -8.502</td><td>-1.026e-04</td><td>-1.043e-04</td><td>-13.520</td><td>-13.330</td><td>-24.36453</td><td>-26.74102</td></tr>\n",
       "</tbody>\n",
       "</table>\n"
      ],
      "text/latex": [
       "A data.frame: 6 × 33\n",
       "\\begin{tabular}{r|lllllllllllllllllllll}\n",
       "  & animal & week & identif & bande & sex & lignee & gener & loge & eleve & pds\\_dc & ... & selec1 & selec2 & e\\_RR & e\\_RRss & e\\_SAD & e\\_SADss & e\\_MTA & e\\_MTH & y\\_RR & y\\_RRH\\\\\n",
       "  & <fct> & <int> & <fct> & <int> & <int> & <fct> & <fct> & <int> & <fct> & <int> & ... & <int> & <int> & <dbl> & <dbl> & <dbl> & <dbl> & <dbl> & <dbl> & <dbl> & <dbl>\\\\\n",
       "\\hline\n",
       "\t1 & 17MAG20005070 & 2 & 17MAG20005070 & 200011 & 2 & n & G0 & 71 & 17MAG & 25 & ... & 0 & 1 &  74.510 &  74.850 &  1.718e-03 &  1.719e-03 &  74.170 &  74.060 &  94.97610 &  95.87767\\\\\n",
       "\t2 & 17MAG20005070 & 4 & 17MAG20005070 & 200011 & 2 & n & G0 & 71 & 17MAG & 25 & ... & 0 & 1 &  67.060 &  67.430 &  1.574e-03 &  1.593e-03 &  63.490 &  64.150 &  79.52834 &  79.07920\\\\\n",
       "\t3 & 17MAG20005070 & 5 & 17MAG20005070 & 200011 & 2 & n & G0 & 71 & 17MAG & 25 & ... & 0 & 1 & -18.340 & -17.980 & -6.276e-04 & -6.220e-04 & -27.610 & -26.970 & -11.37910 & -12.41159\\\\\n",
       "\t4 & 17MAG20005070 & 6 & 17MAG20005070 & 200011 & 2 & n & G0 & 71 & 17MAG & 25 & ... & 0 & 1 & -29.070 & -28.730 & -4.628e-04 & -4.519e-04 & -17.430 & -17.220 & -28.62189 & -30.16971\\\\\n",
       "\t5 & 17MAG20005070 & 7 & 17MAG20005070 & 200011 & 2 & n & G0 & 71 & 17MAG & 25 & ... & 0 & 1 &  -6.171 &  -5.867 &  1.343e-05 &  2.321e-05 &  -2.308 &  -2.115 & -13.24151 & -15.24268\\\\\n",
       "\t6 & 17MAG20005070 & 8 & 17MAG20005070 & 200011 & 2 & n & G0 & 71 & 17MAG & 25 & ... & 0 & 1 &  -8.770 &  -8.502 & -1.026e-04 & -1.043e-04 & -13.520 & -13.330 & -24.36453 & -26.74102\\\\\n",
       "\\end{tabular}\n"
      ],
      "text/markdown": [
       "\n",
       "A data.frame: 6 × 33\n",
       "\n",
       "| <!--/--> | animal &lt;fct&gt; | week &lt;int&gt; | identif &lt;fct&gt; | bande &lt;int&gt; | sex &lt;int&gt; | lignee &lt;fct&gt; | gener &lt;fct&gt; | loge &lt;int&gt; | eleve &lt;fct&gt; | pds_dc &lt;int&gt; | ... ... | selec1 &lt;int&gt; | selec2 &lt;int&gt; | e_RR &lt;dbl&gt; | e_RRss &lt;dbl&gt; | e_SAD &lt;dbl&gt; | e_SADss &lt;dbl&gt; | e_MTA &lt;dbl&gt; | e_MTH &lt;dbl&gt; | y_RR &lt;dbl&gt; | y_RRH &lt;dbl&gt; |\n",
       "|---|---|---|---|---|---|---|---|---|---|---|---|---|---|---|---|---|---|---|---|---|---|\n",
       "| 1 | 17MAG20005070 | 2 | 17MAG20005070 | 200011 | 2 | n | G0 | 71 | 17MAG | 25 | ... | 0 | 1 |  74.510 |  74.850 |  1.718e-03 |  1.719e-03 |  74.170 |  74.060 |  94.97610 |  95.87767 |\n",
       "| 2 | 17MAG20005070 | 4 | 17MAG20005070 | 200011 | 2 | n | G0 | 71 | 17MAG | 25 | ... | 0 | 1 |  67.060 |  67.430 |  1.574e-03 |  1.593e-03 |  63.490 |  64.150 |  79.52834 |  79.07920 |\n",
       "| 3 | 17MAG20005070 | 5 | 17MAG20005070 | 200011 | 2 | n | G0 | 71 | 17MAG | 25 | ... | 0 | 1 | -18.340 | -17.980 | -6.276e-04 | -6.220e-04 | -27.610 | -26.970 | -11.37910 | -12.41159 |\n",
       "| 4 | 17MAG20005070 | 6 | 17MAG20005070 | 200011 | 2 | n | G0 | 71 | 17MAG | 25 | ... | 0 | 1 | -29.070 | -28.730 | -4.628e-04 | -4.519e-04 | -17.430 | -17.220 | -28.62189 | -30.16971 |\n",
       "| 5 | 17MAG20005070 | 7 | 17MAG20005070 | 200011 | 2 | n | G0 | 71 | 17MAG | 25 | ... | 0 | 1 |  -6.171 |  -5.867 |  1.343e-05 |  2.321e-05 |  -2.308 |  -2.115 | -13.24151 | -15.24268 |\n",
       "| 6 | 17MAG20005070 | 8 | 17MAG20005070 | 200011 | 2 | n | G0 | 71 | 17MAG | 25 | ... | 0 | 1 |  -8.770 |  -8.502 | -1.026e-04 | -1.043e-04 | -13.520 | -13.330 | -24.36453 | -26.74102 |\n",
       "\n"
      ],
      "text/plain": [
       "  animal        week identif       bande  sex lignee gener loge eleve pds_dc\n",
       "1 17MAG20005070 2    17MAG20005070 200011 2   n      G0    71   17MAG 25    \n",
       "2 17MAG20005070 4    17MAG20005070 200011 2   n      G0    71   17MAG 25    \n",
       "3 17MAG20005070 5    17MAG20005070 200011 2   n      G0    71   17MAG 25    \n",
       "4 17MAG20005070 6    17MAG20005070 200011 2   n      G0    71   17MAG 25    \n",
       "5 17MAG20005070 7    17MAG20005070 200011 2   n      G0    71   17MAG 25    \n",
       "6 17MAG20005070 8    17MAG20005070 200011 2   n      G0    71   17MAG 25    \n",
       "  ... selec1 selec2 e_RR    e_RRss  e_SAD      e_SADss    e_MTA   e_MTH  \n",
       "1 ... 0      1       74.510  74.850  1.718e-03  1.719e-03  74.170  74.060\n",
       "2 ... 0      1       67.060  67.430  1.574e-03  1.593e-03  63.490  64.150\n",
       "3 ... 0      1      -18.340 -17.980 -6.276e-04 -6.220e-04 -27.610 -26.970\n",
       "4 ... 0      1      -29.070 -28.730 -4.628e-04 -4.519e-04 -17.430 -17.220\n",
       "5 ... 0      1       -6.171  -5.867  1.343e-05  2.321e-05  -2.308  -2.115\n",
       "6 ... 0      1       -8.770  -8.502 -1.026e-04 -1.043e-04 -13.520 -13.330\n",
       "  y_RR      y_RRH    \n",
       "1  94.97610  95.87767\n",
       "2  79.52834  79.07920\n",
       "3 -11.37910 -12.41159\n",
       "4 -28.62189 -30.16971\n",
       "5 -13.24151 -15.24268\n",
       "6 -24.36453 -26.74102"
      ]
     },
     "metadata": {},
     "output_type": "display_data"
    }
   ],
   "source": [
    "head(pheno4)"
   ]
  },
  {
   "cell_type": "markdown",
   "metadata": {},
   "source": [
    "## SAD models with matrix A"
   ]
  },
  {
   "cell_type": "code",
   "execution_count": 53,
   "metadata": {},
   "outputs": [
    {
     "data": {
      "text/html": [
       "<table>\n",
       "<caption>A data.frame: 6 × 37</caption>\n",
       "<thead>\n",
       "\t<tr><th></th><th scope=col>animal</th><th scope=col>week</th><th scope=col>identif</th><th scope=col>bande</th><th scope=col>sex</th><th scope=col>lignee</th><th scope=col>gener</th><th scope=col>loge</th><th scope=col>eleve</th><th scope=col>pds_dc</th><th scope=col>...</th><th scope=col>e_RR</th><th scope=col>e_RRss</th><th scope=col>e_SAD</th><th scope=col>e_SADss</th><th scope=col>e_MTA</th><th scope=col>e_MTH</th><th scope=col>y_RR</th><th scope=col>y_RRH</th><th scope=col>SEgA</th><th scope=col>y_SAD</th></tr>\n",
       "\t<tr><th></th><th scope=col>&lt;fct&gt;</th><th scope=col>&lt;int&gt;</th><th scope=col>&lt;fct&gt;</th><th scope=col>&lt;int&gt;</th><th scope=col>&lt;int&gt;</th><th scope=col>&lt;fct&gt;</th><th scope=col>&lt;fct&gt;</th><th scope=col>&lt;int&gt;</th><th scope=col>&lt;fct&gt;</th><th scope=col>&lt;int&gt;</th><th scope=col>...</th><th scope=col>&lt;dbl&gt;</th><th scope=col>&lt;dbl&gt;</th><th scope=col>&lt;dbl&gt;</th><th scope=col>&lt;dbl&gt;</th><th scope=col>&lt;dbl&gt;</th><th scope=col>&lt;dbl&gt;</th><th scope=col>&lt;dbl&gt;</th><th scope=col>&lt;dbl&gt;</th><th scope=col>&lt;dbl&gt;</th><th scope=col>&lt;dbl&gt;</th></tr>\n",
       "</thead>\n",
       "<tbody>\n",
       "\t<tr><th scope=row>1</th><td>17MAG20005070</td><td>10</td><td>17MAG20005070</td><td>200011</td><td>2</td><td>n</td><td>G0</td><td>71</td><td>17MAG</td><td>25</td><td>...</td><td> -1.120</td><td> -0.9432</td><td>-2.249e-04</td><td>-2.081e-04</td><td> -5.578</td><td> -5.368</td><td>-36.77958</td><td>-39.69193</td><td>11.780</td><td>-36.55022</td></tr>\n",
       "\t<tr><th scope=row>2</th><td>17MAG20005070</td><td> 2</td><td>17MAG20005070</td><td>200011</td><td>2</td><td>n</td><td>G0</td><td>71</td><td>17MAG</td><td>25</td><td>...</td><td> 74.510</td><td> 74.8500</td><td> 1.718e-03</td><td> 1.719e-03</td><td> 74.170</td><td> 74.060</td><td> 94.97610</td><td> 95.87767</td><td> 8.846</td><td> 92.79172</td></tr>\n",
       "\t<tr><th scope=row>3</th><td>17MAG20005070</td><td> 4</td><td>17MAG20005070</td><td>200011</td><td>2</td><td>n</td><td>G0</td><td>71</td><td>17MAG</td><td>25</td><td>...</td><td> 67.060</td><td> 67.4300</td><td> 1.574e-03</td><td> 1.593e-03</td><td> 63.490</td><td> 64.150</td><td> 79.52834</td><td> 79.07920</td><td> 7.179</td><td> 78.04357</td></tr>\n",
       "\t<tr><th scope=row>4</th><td>17MAG20005070</td><td> 5</td><td>17MAG20005070</td><td>200011</td><td>2</td><td>n</td><td>G0</td><td>71</td><td>17MAG</td><td>25</td><td>...</td><td>-18.340</td><td>-17.9800</td><td>-6.276e-04</td><td>-6.220e-04</td><td>-27.610</td><td>-26.970</td><td>-11.37910</td><td>-12.41159</td><td> 7.112</td><td>-11.63063</td></tr>\n",
       "\t<tr><th scope=row>5</th><td>17MAG20005070</td><td> 6</td><td>17MAG20005070</td><td>200011</td><td>2</td><td>n</td><td>G0</td><td>71</td><td>17MAG</td><td>25</td><td>...</td><td>-29.070</td><td>-28.7300</td><td>-4.628e-04</td><td>-4.519e-04</td><td>-17.430</td><td>-17.220</td><td>-28.62189</td><td>-30.16971</td><td> 7.418</td><td>-29.23046</td></tr>\n",
       "\t<tr><th scope=row>6</th><td>17MAG20005070</td><td> 7</td><td>17MAG20005070</td><td>200011</td><td>2</td><td>n</td><td>G0</td><td>71</td><td>17MAG</td><td>25</td><td>...</td><td> -6.171</td><td> -5.8670</td><td> 1.343e-05</td><td> 2.321e-05</td><td> -2.308</td><td> -2.115</td><td>-13.24151</td><td>-15.24268</td><td> 8.000</td><td>-14.00499</td></tr>\n",
       "</tbody>\n",
       "</table>\n"
      ],
      "text/latex": [
       "A data.frame: 6 × 37\n",
       "\\begin{tabular}{r|lllllllllllllllllllll}\n",
       "  & animal & week & identif & bande & sex & lignee & gener & loge & eleve & pds\\_dc & ... & e\\_RR & e\\_RRss & e\\_SAD & e\\_SADss & e\\_MTA & e\\_MTH & y\\_RR & y\\_RRH & SEgA & y\\_SAD\\\\\n",
       "  & <fct> & <int> & <fct> & <int> & <int> & <fct> & <fct> & <int> & <fct> & <int> & ... & <dbl> & <dbl> & <dbl> & <dbl> & <dbl> & <dbl> & <dbl> & <dbl> & <dbl> & <dbl>\\\\\n",
       "\\hline\n",
       "\t1 & 17MAG20005070 & 10 & 17MAG20005070 & 200011 & 2 & n & G0 & 71 & 17MAG & 25 & ... &  -1.120 &  -0.9432 & -2.249e-04 & -2.081e-04 &  -5.578 &  -5.368 & -36.77958 & -39.69193 & 11.780 & -36.55022\\\\\n",
       "\t2 & 17MAG20005070 &  2 & 17MAG20005070 & 200011 & 2 & n & G0 & 71 & 17MAG & 25 & ... &  74.510 &  74.8500 &  1.718e-03 &  1.719e-03 &  74.170 &  74.060 &  94.97610 &  95.87767 &  8.846 &  92.79172\\\\\n",
       "\t3 & 17MAG20005070 &  4 & 17MAG20005070 & 200011 & 2 & n & G0 & 71 & 17MAG & 25 & ... &  67.060 &  67.4300 &  1.574e-03 &  1.593e-03 &  63.490 &  64.150 &  79.52834 &  79.07920 &  7.179 &  78.04357\\\\\n",
       "\t4 & 17MAG20005070 &  5 & 17MAG20005070 & 200011 & 2 & n & G0 & 71 & 17MAG & 25 & ... & -18.340 & -17.9800 & -6.276e-04 & -6.220e-04 & -27.610 & -26.970 & -11.37910 & -12.41159 &  7.112 & -11.63063\\\\\n",
       "\t5 & 17MAG20005070 &  6 & 17MAG20005070 & 200011 & 2 & n & G0 & 71 & 17MAG & 25 & ... & -29.070 & -28.7300 & -4.628e-04 & -4.519e-04 & -17.430 & -17.220 & -28.62189 & -30.16971 &  7.418 & -29.23046\\\\\n",
       "\t6 & 17MAG20005070 &  7 & 17MAG20005070 & 200011 & 2 & n & G0 & 71 & 17MAG & 25 & ... &  -6.171 &  -5.8670 &  1.343e-05 &  2.321e-05 &  -2.308 &  -2.115 & -13.24151 & -15.24268 &  8.000 & -14.00499\\\\\n",
       "\\end{tabular}\n"
      ],
      "text/markdown": [
       "\n",
       "A data.frame: 6 × 37\n",
       "\n",
       "| <!--/--> | animal &lt;fct&gt; | week &lt;int&gt; | identif &lt;fct&gt; | bande &lt;int&gt; | sex &lt;int&gt; | lignee &lt;fct&gt; | gener &lt;fct&gt; | loge &lt;int&gt; | eleve &lt;fct&gt; | pds_dc &lt;int&gt; | ... ... | e_RR &lt;dbl&gt; | e_RRss &lt;dbl&gt; | e_SAD &lt;dbl&gt; | e_SADss &lt;dbl&gt; | e_MTA &lt;dbl&gt; | e_MTH &lt;dbl&gt; | y_RR &lt;dbl&gt; | y_RRH &lt;dbl&gt; | SEgA &lt;dbl&gt; | y_SAD &lt;dbl&gt; |\n",
       "|---|---|---|---|---|---|---|---|---|---|---|---|---|---|---|---|---|---|---|---|---|---|\n",
       "| 1 | 17MAG20005070 | 10 | 17MAG20005070 | 200011 | 2 | n | G0 | 71 | 17MAG | 25 | ... |  -1.120 |  -0.9432 | -2.249e-04 | -2.081e-04 |  -5.578 |  -5.368 | -36.77958 | -39.69193 | 11.780 | -36.55022 |\n",
       "| 2 | 17MAG20005070 |  2 | 17MAG20005070 | 200011 | 2 | n | G0 | 71 | 17MAG | 25 | ... |  74.510 |  74.8500 |  1.718e-03 |  1.719e-03 |  74.170 |  74.060 |  94.97610 |  95.87767 |  8.846 |  92.79172 |\n",
       "| 3 | 17MAG20005070 |  4 | 17MAG20005070 | 200011 | 2 | n | G0 | 71 | 17MAG | 25 | ... |  67.060 |  67.4300 |  1.574e-03 |  1.593e-03 |  63.490 |  64.150 |  79.52834 |  79.07920 |  7.179 |  78.04357 |\n",
       "| 4 | 17MAG20005070 |  5 | 17MAG20005070 | 200011 | 2 | n | G0 | 71 | 17MAG | 25 | ... | -18.340 | -17.9800 | -6.276e-04 | -6.220e-04 | -27.610 | -26.970 | -11.37910 | -12.41159 |  7.112 | -11.63063 |\n",
       "| 5 | 17MAG20005070 |  6 | 17MAG20005070 | 200011 | 2 | n | G0 | 71 | 17MAG | 25 | ... | -29.070 | -28.7300 | -4.628e-04 | -4.519e-04 | -17.430 | -17.220 | -28.62189 | -30.16971 |  7.418 | -29.23046 |\n",
       "| 6 | 17MAG20005070 |  7 | 17MAG20005070 | 200011 | 2 | n | G0 | 71 | 17MAG | 25 | ... |  -6.171 |  -5.8670 |  1.343e-05 |  2.321e-05 |  -2.308 |  -2.115 | -13.24151 | -15.24268 |  8.000 | -14.00499 |\n",
       "\n"
      ],
      "text/plain": [
       "  animal        week identif       bande  sex lignee gener loge eleve pds_dc\n",
       "1 17MAG20005070 10   17MAG20005070 200011 2   n      G0    71   17MAG 25    \n",
       "2 17MAG20005070  2   17MAG20005070 200011 2   n      G0    71   17MAG 25    \n",
       "3 17MAG20005070  4   17MAG20005070 200011 2   n      G0    71   17MAG 25    \n",
       "4 17MAG20005070  5   17MAG20005070 200011 2   n      G0    71   17MAG 25    \n",
       "5 17MAG20005070  6   17MAG20005070 200011 2   n      G0    71   17MAG 25    \n",
       "6 17MAG20005070  7   17MAG20005070 200011 2   n      G0    71   17MAG 25    \n",
       "  ... e_RR    e_RRss   e_SAD      e_SADss    e_MTA   e_MTH   y_RR     \n",
       "1 ...  -1.120  -0.9432 -2.249e-04 -2.081e-04  -5.578  -5.368 -36.77958\n",
       "2 ...  74.510  74.8500  1.718e-03  1.719e-03  74.170  74.060  94.97610\n",
       "3 ...  67.060  67.4300  1.574e-03  1.593e-03  63.490  64.150  79.52834\n",
       "4 ... -18.340 -17.9800 -6.276e-04 -6.220e-04 -27.610 -26.970 -11.37910\n",
       "5 ... -29.070 -28.7300 -4.628e-04 -4.519e-04 -17.430 -17.220 -28.62189\n",
       "6 ...  -6.171  -5.8670  1.343e-05  2.321e-05  -2.308  -2.115 -13.24151\n",
       "  y_RRH     SEgA   y_SAD    \n",
       "1 -39.69193 11.780 -36.55022\n",
       "2  95.87767  8.846  92.79172\n",
       "3  79.07920  7.179  78.04357\n",
       "4 -12.41159  7.112 -11.63063\n",
       "5 -30.16971  7.418 -29.23046\n",
       "6 -15.24268  8.000 -14.00499"
      ]
     },
     "metadata": {},
     "output_type": "display_data"
    }
   ],
   "source": [
    "###############################################################################################\n",
    "pheno4=read.table(\"dat_correct_RRA_RRH\")\n",
    "\n",
    "\n",
    "\n",
    "sln_sad <- read.table(\"sln_sadA\", quote=\"\\\"\") \n",
    "ide_sad<- read.table(\"ide_sadA\", quote=\"\\\"\")\n",
    "sln_sad$ide_sad = ide_sad$V3\n",
    "\n",
    "\n",
    "sln_sad$somme= sln_sad$V3 + sln_sad$ide_sad\n",
    "names(sln_sad)<-c(\"V1\",\"code\",\"g\",\"SEg\",\"e\",\"somme\")\n",
    "\n",
    "\n",
    "\n",
    "m_sadA <- as.data.frame(matrix( unlist( strsplit(as.character(sln_sad$code)  , \"\\\\.\" ) ) , ncol = 2 , byrow = TRUE ))\n",
    "\n",
    "sln_sad1=cbind(sln_sad,m_sadA)\n",
    "names(sln_sad1)<-c(\"V1\",\"code\",\"g\",\"SEgA\",\"e\",\"somme\",\"temps\",\"animal\")\n",
    "sln_sad1$temps=as.numeric(levels(sln_sad1$temps))[sln_sad1$temps]\n",
    "sln_sad2=arrange(sln_sad1,animal,temps)\n",
    "N_animal=length(unique(sln_sad2$animal))  #number animal from SAD.sln\n",
    "\n",
    "\n",
    "\n",
    "sln_sad2$week=sln_sad2$temps\n",
    "sln_sad2=subset(sln_sad2,select=-c(temps))\n",
    "critere=c(\"animal\",\"week\")\n",
    "DF_s=merge(pheno4,sln_sad2,by=c(critere))\n",
    "DF_s$y_SAD = DF_s$e_SAD + DF_s$somme\n",
    "\n",
    "DF_s <- select(DF_s, -c(somme,code, V1,g,e))\n",
    "\n",
    "head(DF_s)\n",
    "write.table(DF_s,\"dat_correct_RRA_RRH_sadA\")\n",
    "############################################################\n"
   ]
  },
  {
   "cell_type": "code",
   "execution_count": 50,
   "metadata": {},
   "outputs": [],
   "source": [
    "fix(DF_s)"
   ]
  },
  {
   "cell_type": "code",
   "execution_count": 54,
   "metadata": {},
   "outputs": [],
   "source": [
    "###################################################\n",
    "#rm(list = ls())\n",
    "\n",
    "\n",
    "###############################################################################################\n",
    "\n",
    "\n",
    "DF_s=read.table(\"dat_correct_RRA_RRH_sadA\")\n",
    "\n",
    "sln_sadH <- read.table(\"sln_sadH\", quote=\"\\\"\") #old is G_sad\n",
    "ide_sadH <- read.table(\"ide_sadH\", quote=\"\\\"\")\n",
    "sln_sadH$ide_sad = ide_sadH$V3\n",
    "\n",
    "sln_sadH$somme= sln_sadH$V3 + sln_sadH$ide_sad\n",
    "names(sln_sadH)<-c(\"V1\",\"code\",\"g\",\"SEg\",\"e\",\"somme\")\n",
    "\n",
    "m_sadH <- as.data.frame(matrix(unlist( strsplit(as.character(sln_sadH$code)  , \"\\\\.\" )) , ncol = 2 , byrow = TRUE ))\n",
    "\n",
    "\n",
    "sln_sadH1=cbind(sln_sad,m_sadH)\n",
    "names(sln_sadH1)<-c(\"V11\",\"code1\",\"g1\",\"SEgH\",\"e1\",\"somme1\",\"temps\",\"animal\")\n",
    "\n",
    "sln_sadH1$temps=as.numeric(levels(sln_sadH1$temps))[sln_sadH1$temps]\n",
    "sln_sadH2=arrange(sln_sadH1,animal,temps)\n",
    "N_animal=length(unique(sln_sadH2$animal))  #number animal from SAD.sln\n",
    "sln_sadH2$week=sln_sadH2$temps\n",
    "sln_sadH2=select(sln_sadH2,-c(temps))\n",
    "\n",
    "\n",
    "\n",
    "\n",
    "critere=c(\"animal\",\"week\")\n",
    "DF_s2 =merge(DF_s,sln_sadH2,by=c(critere))\n",
    "\n",
    "\n",
    "DF_s2$y_SADH = DF_s2$e_SADss + DF_s2$somme1\n",
    "\n",
    "# Delete some columns\n",
    "DF_s2=select(DF_s2,-c(code1,somme1,V11,code1,g1,e1))\n",
    "# write table\n",
    "write.table(DF_s2,\"dat_correct_RRA_RRH_sadA_SADH\")"
   ]
  },
  {
   "cell_type": "code",
   "execution_count": 55,
   "metadata": {},
   "outputs": [
    {
     "data": {
      "text/html": [
       "<table>\n",
       "<caption>A data.frame: 6 × 39</caption>\n",
       "<thead>\n",
       "\t<tr><th></th><th scope=col>animal</th><th scope=col>week</th><th scope=col>identif</th><th scope=col>bande</th><th scope=col>sex</th><th scope=col>lignee</th><th scope=col>gener</th><th scope=col>loge</th><th scope=col>eleve</th><th scope=col>pds_dc</th><th scope=col>...</th><th scope=col>e_SAD</th><th scope=col>e_SADss</th><th scope=col>e_MTA</th><th scope=col>e_MTH</th><th scope=col>y_RR</th><th scope=col>y_RRH</th><th scope=col>SEgA</th><th scope=col>y_SAD</th><th scope=col>SEgH</th><th scope=col>y_SADH</th></tr>\n",
       "\t<tr><th></th><th scope=col>&lt;fct&gt;</th><th scope=col>&lt;int&gt;</th><th scope=col>&lt;fct&gt;</th><th scope=col>&lt;int&gt;</th><th scope=col>&lt;int&gt;</th><th scope=col>&lt;fct&gt;</th><th scope=col>&lt;fct&gt;</th><th scope=col>&lt;int&gt;</th><th scope=col>&lt;fct&gt;</th><th scope=col>&lt;int&gt;</th><th scope=col>...</th><th scope=col>&lt;dbl&gt;</th><th scope=col>&lt;dbl&gt;</th><th scope=col>&lt;dbl&gt;</th><th scope=col>&lt;dbl&gt;</th><th scope=col>&lt;dbl&gt;</th><th scope=col>&lt;dbl&gt;</th><th scope=col>&lt;dbl&gt;</th><th scope=col>&lt;dbl&gt;</th><th scope=col>&lt;dbl&gt;</th><th scope=col>&lt;dbl&gt;</th></tr>\n",
       "</thead>\n",
       "<tbody>\n",
       "\t<tr><th scope=row>1</th><td>17MAG20005070</td><td>10</td><td>17MAG20005070</td><td>200011</td><td>2</td><td>n</td><td>G0</td><td>71</td><td>17MAG</td><td>25</td><td>...</td><td>-2.249e-04</td><td>-2.081e-04</td><td> -5.578</td><td> -5.368</td><td>-36.77958</td><td>-39.69193</td><td>11.780</td><td>-36.55022</td><td>11.780</td><td>-36.55021</td></tr>\n",
       "\t<tr><th scope=row>2</th><td>17MAG20005070</td><td> 2</td><td>17MAG20005070</td><td>200011</td><td>2</td><td>n</td><td>G0</td><td>71</td><td>17MAG</td><td>25</td><td>...</td><td> 1.718e-03</td><td> 1.719e-03</td><td> 74.170</td><td> 74.060</td><td> 94.97610</td><td> 95.87767</td><td> 8.846</td><td> 92.79172</td><td> 8.846</td><td> 92.79172</td></tr>\n",
       "\t<tr><th scope=row>3</th><td>17MAG20005070</td><td> 4</td><td>17MAG20005070</td><td>200011</td><td>2</td><td>n</td><td>G0</td><td>71</td><td>17MAG</td><td>25</td><td>...</td><td> 1.574e-03</td><td> 1.593e-03</td><td> 63.490</td><td> 64.150</td><td> 79.52834</td><td> 79.07920</td><td> 7.179</td><td> 78.04357</td><td> 7.179</td><td> 78.04359</td></tr>\n",
       "\t<tr><th scope=row>4</th><td>17MAG20005070</td><td> 5</td><td>17MAG20005070</td><td>200011</td><td>2</td><td>n</td><td>G0</td><td>71</td><td>17MAG</td><td>25</td><td>...</td><td>-6.276e-04</td><td>-6.220e-04</td><td>-27.610</td><td>-26.970</td><td>-11.37910</td><td>-12.41159</td><td> 7.112</td><td>-11.63063</td><td> 7.112</td><td>-11.63062</td></tr>\n",
       "\t<tr><th scope=row>5</th><td>17MAG20005070</td><td> 6</td><td>17MAG20005070</td><td>200011</td><td>2</td><td>n</td><td>G0</td><td>71</td><td>17MAG</td><td>25</td><td>...</td><td>-4.628e-04</td><td>-4.519e-04</td><td>-17.430</td><td>-17.220</td><td>-28.62189</td><td>-30.16971</td><td> 7.418</td><td>-29.23046</td><td> 7.418</td><td>-29.23045</td></tr>\n",
       "\t<tr><th scope=row>6</th><td>17MAG20005070</td><td> 7</td><td>17MAG20005070</td><td>200011</td><td>2</td><td>n</td><td>G0</td><td>71</td><td>17MAG</td><td>25</td><td>...</td><td> 1.343e-05</td><td> 2.321e-05</td><td> -2.308</td><td> -2.115</td><td>-13.24151</td><td>-15.24268</td><td> 8.000</td><td>-14.00499</td><td> 8.000</td><td>-14.00498</td></tr>\n",
       "</tbody>\n",
       "</table>\n"
      ],
      "text/latex": [
       "A data.frame: 6 × 39\n",
       "\\begin{tabular}{r|lllllllllllllllllllll}\n",
       "  & animal & week & identif & bande & sex & lignee & gener & loge & eleve & pds\\_dc & ... & e\\_SAD & e\\_SADss & e\\_MTA & e\\_MTH & y\\_RR & y\\_RRH & SEgA & y\\_SAD & SEgH & y\\_SADH\\\\\n",
       "  & <fct> & <int> & <fct> & <int> & <int> & <fct> & <fct> & <int> & <fct> & <int> & ... & <dbl> & <dbl> & <dbl> & <dbl> & <dbl> & <dbl> & <dbl> & <dbl> & <dbl> & <dbl>\\\\\n",
       "\\hline\n",
       "\t1 & 17MAG20005070 & 10 & 17MAG20005070 & 200011 & 2 & n & G0 & 71 & 17MAG & 25 & ... & -2.249e-04 & -2.081e-04 &  -5.578 &  -5.368 & -36.77958 & -39.69193 & 11.780 & -36.55022 & 11.780 & -36.55021\\\\\n",
       "\t2 & 17MAG20005070 &  2 & 17MAG20005070 & 200011 & 2 & n & G0 & 71 & 17MAG & 25 & ... &  1.718e-03 &  1.719e-03 &  74.170 &  74.060 &  94.97610 &  95.87767 &  8.846 &  92.79172 &  8.846 &  92.79172\\\\\n",
       "\t3 & 17MAG20005070 &  4 & 17MAG20005070 & 200011 & 2 & n & G0 & 71 & 17MAG & 25 & ... &  1.574e-03 &  1.593e-03 &  63.490 &  64.150 &  79.52834 &  79.07920 &  7.179 &  78.04357 &  7.179 &  78.04359\\\\\n",
       "\t4 & 17MAG20005070 &  5 & 17MAG20005070 & 200011 & 2 & n & G0 & 71 & 17MAG & 25 & ... & -6.276e-04 & -6.220e-04 & -27.610 & -26.970 & -11.37910 & -12.41159 &  7.112 & -11.63063 &  7.112 & -11.63062\\\\\n",
       "\t5 & 17MAG20005070 &  6 & 17MAG20005070 & 200011 & 2 & n & G0 & 71 & 17MAG & 25 & ... & -4.628e-04 & -4.519e-04 & -17.430 & -17.220 & -28.62189 & -30.16971 &  7.418 & -29.23046 &  7.418 & -29.23045\\\\\n",
       "\t6 & 17MAG20005070 &  7 & 17MAG20005070 & 200011 & 2 & n & G0 & 71 & 17MAG & 25 & ... &  1.343e-05 &  2.321e-05 &  -2.308 &  -2.115 & -13.24151 & -15.24268 &  8.000 & -14.00499 &  8.000 & -14.00498\\\\\n",
       "\\end{tabular}\n"
      ],
      "text/markdown": [
       "\n",
       "A data.frame: 6 × 39\n",
       "\n",
       "| <!--/--> | animal &lt;fct&gt; | week &lt;int&gt; | identif &lt;fct&gt; | bande &lt;int&gt; | sex &lt;int&gt; | lignee &lt;fct&gt; | gener &lt;fct&gt; | loge &lt;int&gt; | eleve &lt;fct&gt; | pds_dc &lt;int&gt; | ... ... | e_SAD &lt;dbl&gt; | e_SADss &lt;dbl&gt; | e_MTA &lt;dbl&gt; | e_MTH &lt;dbl&gt; | y_RR &lt;dbl&gt; | y_RRH &lt;dbl&gt; | SEgA &lt;dbl&gt; | y_SAD &lt;dbl&gt; | SEgH &lt;dbl&gt; | y_SADH &lt;dbl&gt; |\n",
       "|---|---|---|---|---|---|---|---|---|---|---|---|---|---|---|---|---|---|---|---|---|---|\n",
       "| 1 | 17MAG20005070 | 10 | 17MAG20005070 | 200011 | 2 | n | G0 | 71 | 17MAG | 25 | ... | -2.249e-04 | -2.081e-04 |  -5.578 |  -5.368 | -36.77958 | -39.69193 | 11.780 | -36.55022 | 11.780 | -36.55021 |\n",
       "| 2 | 17MAG20005070 |  2 | 17MAG20005070 | 200011 | 2 | n | G0 | 71 | 17MAG | 25 | ... |  1.718e-03 |  1.719e-03 |  74.170 |  74.060 |  94.97610 |  95.87767 |  8.846 |  92.79172 |  8.846 |  92.79172 |\n",
       "| 3 | 17MAG20005070 |  4 | 17MAG20005070 | 200011 | 2 | n | G0 | 71 | 17MAG | 25 | ... |  1.574e-03 |  1.593e-03 |  63.490 |  64.150 |  79.52834 |  79.07920 |  7.179 |  78.04357 |  7.179 |  78.04359 |\n",
       "| 4 | 17MAG20005070 |  5 | 17MAG20005070 | 200011 | 2 | n | G0 | 71 | 17MAG | 25 | ... | -6.276e-04 | -6.220e-04 | -27.610 | -26.970 | -11.37910 | -12.41159 |  7.112 | -11.63063 |  7.112 | -11.63062 |\n",
       "| 5 | 17MAG20005070 |  6 | 17MAG20005070 | 200011 | 2 | n | G0 | 71 | 17MAG | 25 | ... | -4.628e-04 | -4.519e-04 | -17.430 | -17.220 | -28.62189 | -30.16971 |  7.418 | -29.23046 |  7.418 | -29.23045 |\n",
       "| 6 | 17MAG20005070 |  7 | 17MAG20005070 | 200011 | 2 | n | G0 | 71 | 17MAG | 25 | ... |  1.343e-05 |  2.321e-05 |  -2.308 |  -2.115 | -13.24151 | -15.24268 |  8.000 | -14.00499 |  8.000 | -14.00498 |\n",
       "\n"
      ],
      "text/plain": [
       "  animal        week identif       bande  sex lignee gener loge eleve pds_dc\n",
       "1 17MAG20005070 10   17MAG20005070 200011 2   n      G0    71   17MAG 25    \n",
       "2 17MAG20005070  2   17MAG20005070 200011 2   n      G0    71   17MAG 25    \n",
       "3 17MAG20005070  4   17MAG20005070 200011 2   n      G0    71   17MAG 25    \n",
       "4 17MAG20005070  5   17MAG20005070 200011 2   n      G0    71   17MAG 25    \n",
       "5 17MAG20005070  6   17MAG20005070 200011 2   n      G0    71   17MAG 25    \n",
       "6 17MAG20005070  7   17MAG20005070 200011 2   n      G0    71   17MAG 25    \n",
       "  ... e_SAD      e_SADss    e_MTA   e_MTH   y_RR      y_RRH     SEgA  \n",
       "1 ... -2.249e-04 -2.081e-04  -5.578  -5.368 -36.77958 -39.69193 11.780\n",
       "2 ...  1.718e-03  1.719e-03  74.170  74.060  94.97610  95.87767  8.846\n",
       "3 ...  1.574e-03  1.593e-03  63.490  64.150  79.52834  79.07920  7.179\n",
       "4 ... -6.276e-04 -6.220e-04 -27.610 -26.970 -11.37910 -12.41159  7.112\n",
       "5 ... -4.628e-04 -4.519e-04 -17.430 -17.220 -28.62189 -30.16971  7.418\n",
       "6 ...  1.343e-05  2.321e-05  -2.308  -2.115 -13.24151 -15.24268  8.000\n",
       "  y_SAD     SEgH   y_SADH   \n",
       "1 -36.55022 11.780 -36.55021\n",
       "2  92.79172  8.846  92.79172\n",
       "3  78.04357  7.179  78.04359\n",
       "4 -11.63063  7.112 -11.63062\n",
       "5 -29.23046  7.418 -29.23045\n",
       "6 -14.00499  8.000 -14.00498"
      ]
     },
     "metadata": {},
     "output_type": "display_data"
    }
   ],
   "source": [
    "head(DF_s2)"
   ]
  },
  {
   "cell_type": "markdown",
   "metadata": {},
   "source": [
    "## Multiple trait models"
   ]
  },
  {
   "cell_type": "code",
   "execution_count": 62,
   "metadata": {},
   "outputs": [
    {
     "data": {
      "text/html": [
       "<table>\n",
       "<caption>A data.frame: 6 × 41</caption>\n",
       "<thead>\n",
       "\t<tr><th></th><th scope=col>animal</th><th scope=col>pe2</th><th scope=col>week</th><th scope=col>identif</th><th scope=col>bande</th><th scope=col>sex</th><th scope=col>lignee</th><th scope=col>gener</th><th scope=col>loge</th><th scope=col>eleve</th><th scope=col>...</th><th scope=col>e_MTA</th><th scope=col>e_MTH</th><th scope=col>y_RR</th><th scope=col>y_RRH</th><th scope=col>SEgA</th><th scope=col>y_SAD</th><th scope=col>SEgH</th><th scope=col>y_SADH</th><th scope=col>SEg_MTA</th><th scope=col>y_MT</th></tr>\n",
       "\t<tr><th></th><th scope=col>&lt;fct&gt;</th><th scope=col>&lt;int&gt;</th><th scope=col>&lt;int&gt;</th><th scope=col>&lt;fct&gt;</th><th scope=col>&lt;int&gt;</th><th scope=col>&lt;int&gt;</th><th scope=col>&lt;fct&gt;</th><th scope=col>&lt;fct&gt;</th><th scope=col>&lt;int&gt;</th><th scope=col>&lt;fct&gt;</th><th scope=col>...</th><th scope=col>&lt;dbl&gt;</th><th scope=col>&lt;dbl&gt;</th><th scope=col>&lt;dbl&gt;</th><th scope=col>&lt;dbl&gt;</th><th scope=col>&lt;dbl&gt;</th><th scope=col>&lt;dbl&gt;</th><th scope=col>&lt;dbl&gt;</th><th scope=col>&lt;dbl&gt;</th><th scope=col>&lt;dbl&gt;</th><th scope=col>&lt;dbl&gt;</th></tr>\n",
       "</thead>\n",
       "<tbody>\n",
       "\t<tr><th scope=row>1</th><td>17MAG20005070</td><td>1</td><td>2</td><td>17MAG20005070</td><td>200011</td><td>2</td><td>n</td><td>G0</td><td>71</td><td>17MAG</td><td>...</td><td> 74.170</td><td> 74.060</td><td> 94.97610</td><td> 95.87767</td><td>8.846</td><td> 92.79172</td><td>8.846</td><td> 92.79172</td><td>7.612</td><td> 95.4500</td></tr>\n",
       "\t<tr><th scope=row>2</th><td>17MAG20005070</td><td>2</td><td>4</td><td>17MAG20005070</td><td>200011</td><td>2</td><td>n</td><td>G0</td><td>71</td><td>17MAG</td><td>...</td><td> 63.490</td><td> 64.150</td><td> 79.52834</td><td> 79.07920</td><td>7.179</td><td> 78.04357</td><td>7.179</td><td> 78.04359</td><td>5.936</td><td> 80.2270</td></tr>\n",
       "\t<tr><th scope=row>3</th><td>17MAG20005070</td><td>2</td><td>5</td><td>17MAG20005070</td><td>200011</td><td>2</td><td>n</td><td>G0</td><td>71</td><td>17MAG</td><td>...</td><td>-27.610</td><td>-26.970</td><td>-11.37910</td><td>-12.41159</td><td>7.112</td><td>-11.63063</td><td>7.112</td><td>-11.63062</td><td>5.936</td><td>-10.8730</td></tr>\n",
       "\t<tr><th scope=row>4</th><td>17MAG20005070</td><td>3</td><td>6</td><td>17MAG20005070</td><td>200011</td><td>2</td><td>n</td><td>G0</td><td>71</td><td>17MAG</td><td>...</td><td>-17.430</td><td>-17.220</td><td>-28.62189</td><td>-30.16971</td><td>7.418</td><td>-29.23046</td><td>7.418</td><td>-29.23045</td><td>6.505</td><td>-28.2649</td></tr>\n",
       "\t<tr><th scope=row>5</th><td>17MAG20005070</td><td>3</td><td>7</td><td>17MAG20005070</td><td>200011</td><td>2</td><td>n</td><td>G0</td><td>71</td><td>17MAG</td><td>...</td><td> -2.308</td><td> -2.115</td><td>-13.24151</td><td>-15.24268</td><td>8.000</td><td>-14.00499</td><td>8.000</td><td>-14.00498</td><td>6.505</td><td>-13.1429</td></tr>\n",
       "\t<tr><th scope=row>6</th><td>17MAG20005070</td><td>3</td><td>8</td><td>17MAG20005070</td><td>200011</td><td>2</td><td>n</td><td>G0</td><td>71</td><td>17MAG</td><td>...</td><td>-13.520</td><td>-13.330</td><td>-24.36453</td><td>-26.74102</td><td>8.805</td><td>-25.16910</td><td>8.805</td><td>-25.16910</td><td>6.505</td><td>-24.3549</td></tr>\n",
       "</tbody>\n",
       "</table>\n"
      ],
      "text/latex": [
       "A data.frame: 6 × 41\n",
       "\\begin{tabular}{r|lllllllllllllllllllll}\n",
       "  & animal & pe2 & week & identif & bande & sex & lignee & gener & loge & eleve & ... & e\\_MTA & e\\_MTH & y\\_RR & y\\_RRH & SEgA & y\\_SAD & SEgH & y\\_SADH & SEg\\_MTA & y\\_MT\\\\\n",
       "  & <fct> & <int> & <int> & <fct> & <int> & <int> & <fct> & <fct> & <int> & <fct> & ... & <dbl> & <dbl> & <dbl> & <dbl> & <dbl> & <dbl> & <dbl> & <dbl> & <dbl> & <dbl>\\\\\n",
       "\\hline\n",
       "\t1 & 17MAG20005070 & 1 & 2 & 17MAG20005070 & 200011 & 2 & n & G0 & 71 & 17MAG & ... &  74.170 &  74.060 &  94.97610 &  95.87767 & 8.846 &  92.79172 & 8.846 &  92.79172 & 7.612 &  95.4500\\\\\n",
       "\t2 & 17MAG20005070 & 2 & 4 & 17MAG20005070 & 200011 & 2 & n & G0 & 71 & 17MAG & ... &  63.490 &  64.150 &  79.52834 &  79.07920 & 7.179 &  78.04357 & 7.179 &  78.04359 & 5.936 &  80.2270\\\\\n",
       "\t3 & 17MAG20005070 & 2 & 5 & 17MAG20005070 & 200011 & 2 & n & G0 & 71 & 17MAG & ... & -27.610 & -26.970 & -11.37910 & -12.41159 & 7.112 & -11.63063 & 7.112 & -11.63062 & 5.936 & -10.8730\\\\\n",
       "\t4 & 17MAG20005070 & 3 & 6 & 17MAG20005070 & 200011 & 2 & n & G0 & 71 & 17MAG & ... & -17.430 & -17.220 & -28.62189 & -30.16971 & 7.418 & -29.23046 & 7.418 & -29.23045 & 6.505 & -28.2649\\\\\n",
       "\t5 & 17MAG20005070 & 3 & 7 & 17MAG20005070 & 200011 & 2 & n & G0 & 71 & 17MAG & ... &  -2.308 &  -2.115 & -13.24151 & -15.24268 & 8.000 & -14.00499 & 8.000 & -14.00498 & 6.505 & -13.1429\\\\\n",
       "\t6 & 17MAG20005070 & 3 & 8 & 17MAG20005070 & 200011 & 2 & n & G0 & 71 & 17MAG & ... & -13.520 & -13.330 & -24.36453 & -26.74102 & 8.805 & -25.16910 & 8.805 & -25.16910 & 6.505 & -24.3549\\\\\n",
       "\\end{tabular}\n"
      ],
      "text/markdown": [
       "\n",
       "A data.frame: 6 × 41\n",
       "\n",
       "| <!--/--> | animal &lt;fct&gt; | pe2 &lt;int&gt; | week &lt;int&gt; | identif &lt;fct&gt; | bande &lt;int&gt; | sex &lt;int&gt; | lignee &lt;fct&gt; | gener &lt;fct&gt; | loge &lt;int&gt; | eleve &lt;fct&gt; | ... ... | e_MTA &lt;dbl&gt; | e_MTH &lt;dbl&gt; | y_RR &lt;dbl&gt; | y_RRH &lt;dbl&gt; | SEgA &lt;dbl&gt; | y_SAD &lt;dbl&gt; | SEgH &lt;dbl&gt; | y_SADH &lt;dbl&gt; | SEg_MTA &lt;dbl&gt; | y_MT &lt;dbl&gt; |\n",
       "|---|---|---|---|---|---|---|---|---|---|---|---|---|---|---|---|---|---|---|---|---|---|\n",
       "| 1 | 17MAG20005070 | 1 | 2 | 17MAG20005070 | 200011 | 2 | n | G0 | 71 | 17MAG | ... |  74.170 |  74.060 |  94.97610 |  95.87767 | 8.846 |  92.79172 | 8.846 |  92.79172 | 7.612 |  95.4500 |\n",
       "| 2 | 17MAG20005070 | 2 | 4 | 17MAG20005070 | 200011 | 2 | n | G0 | 71 | 17MAG | ... |  63.490 |  64.150 |  79.52834 |  79.07920 | 7.179 |  78.04357 | 7.179 |  78.04359 | 5.936 |  80.2270 |\n",
       "| 3 | 17MAG20005070 | 2 | 5 | 17MAG20005070 | 200011 | 2 | n | G0 | 71 | 17MAG | ... | -27.610 | -26.970 | -11.37910 | -12.41159 | 7.112 | -11.63063 | 7.112 | -11.63062 | 5.936 | -10.8730 |\n",
       "| 4 | 17MAG20005070 | 3 | 6 | 17MAG20005070 | 200011 | 2 | n | G0 | 71 | 17MAG | ... | -17.430 | -17.220 | -28.62189 | -30.16971 | 7.418 | -29.23046 | 7.418 | -29.23045 | 6.505 | -28.2649 |\n",
       "| 5 | 17MAG20005070 | 3 | 7 | 17MAG20005070 | 200011 | 2 | n | G0 | 71 | 17MAG | ... |  -2.308 |  -2.115 | -13.24151 | -15.24268 | 8.000 | -14.00499 | 8.000 | -14.00498 | 6.505 | -13.1429 |\n",
       "| 6 | 17MAG20005070 | 3 | 8 | 17MAG20005070 | 200011 | 2 | n | G0 | 71 | 17MAG | ... | -13.520 | -13.330 | -24.36453 | -26.74102 | 8.805 | -25.16910 | 8.805 | -25.16910 | 6.505 | -24.3549 |\n",
       "\n"
      ],
      "text/plain": [
       "  animal        pe2 week identif       bande  sex lignee gener loge eleve ...\n",
       "1 17MAG20005070 1   2    17MAG20005070 200011 2   n      G0    71   17MAG ...\n",
       "2 17MAG20005070 2   4    17MAG20005070 200011 2   n      G0    71   17MAG ...\n",
       "3 17MAG20005070 2   5    17MAG20005070 200011 2   n      G0    71   17MAG ...\n",
       "4 17MAG20005070 3   6    17MAG20005070 200011 2   n      G0    71   17MAG ...\n",
       "5 17MAG20005070 3   7    17MAG20005070 200011 2   n      G0    71   17MAG ...\n",
       "6 17MAG20005070 3   8    17MAG20005070 200011 2   n      G0    71   17MAG ...\n",
       "  e_MTA   e_MTH   y_RR      y_RRH     SEgA  y_SAD     SEgH  y_SADH    SEg_MTA\n",
       "1  74.170  74.060  94.97610  95.87767 8.846  92.79172 8.846  92.79172 7.612  \n",
       "2  63.490  64.150  79.52834  79.07920 7.179  78.04357 7.179  78.04359 5.936  \n",
       "3 -27.610 -26.970 -11.37910 -12.41159 7.112 -11.63063 7.112 -11.63062 5.936  \n",
       "4 -17.430 -17.220 -28.62189 -30.16971 7.418 -29.23046 7.418 -29.23045 6.505  \n",
       "5  -2.308  -2.115 -13.24151 -15.24268 8.000 -14.00499 8.000 -14.00498 6.505  \n",
       "6 -13.520 -13.330 -24.36453 -26.74102 8.805 -25.16910 8.805 -25.16910 6.505  \n",
       "  y_MT    \n",
       "1  95.4500\n",
       "2  80.2270\n",
       "3 -10.8730\n",
       "4 -28.2649\n",
       "5 -13.1429\n",
       "6 -24.3549"
      ]
     },
     "metadata": {},
     "output_type": "display_data"
    }
   ],
   "source": [
    "# rm(list = ls())\n",
    "\n",
    "# Read files\n",
    "pheno3=read.table(\"dat_correct_RRA_RRH_sadA_SADH\")\n",
    "sln_mt <- read.table(\"sln_mtA\", quote=\"\\\"\", comment.char=\"\") #old is G_sad\n",
    "ide_mt <- read.table(\"ide_mtA\", quote=\"\\\"\", comment.char=\"\")\n",
    "sln_mt$V3=sln_mt$V3+ide_mt$V3\n",
    "names(sln_mt)<-c(\"V1\",\"code\",\"value\",\"SE\")\n",
    "\n",
    "\n",
    "\n",
    "\n",
    "\n",
    "m_mtA <- as.data.frame(matrix( unlist(strsplit(as.character(sln_mt$code)  , \"\\\\.\")) , ncol = 2 , byrow = TRUE ))\n",
    "sln_mt1=cbind(sln_mt,m_mtA)\n",
    "names(sln_mt1)<-c(\"V1\",\"code\",\"value\",\"SEg_MTA\",\"pe2\",\"animal\")\n",
    "sln_mt1$pe2=as.numeric(levels(sln_mt1$pe2))[sln_mt1$pe2]\n",
    "sln_mt2=arrange(sln_mt1,animal,pe2)\n",
    "N_animal=length(unique(sln_mt2$animal))  #number animal from SAD.sln\n",
    "\n",
    "\n",
    "critere=c(\"animal\",\"pe2\")\n",
    "DF_s3=merge(DF_s2,sln_mt2,by=c(critere))\n",
    "DF_s3$y_MT = DF_s3$e_MTA+DF_s3$value # corrected phenotypes\n",
    "DF_s3 = select(DF_s3,-c(value, code, V1)) # drop some columns\n",
    "write.table(DF_s3,\"dat_correct_RRA_RRH_sadA_SADH_mtA\")\n",
    "########################################################################################################\n",
    "\n",
    "head(DF_s3)\n"
   ]
  },
  {
   "cell_type": "code",
   "execution_count": 70,
   "metadata": {},
   "outputs": [
    {
     "data": {
      "text/html": [
       "<table>\n",
       "<caption>A data.frame: 6 × 6</caption>\n",
       "<thead>\n",
       "\t<tr><th></th><th scope=col>V11</th><th scope=col>code1</th><th scope=col>value1</th><th scope=col>SEg_MTH</th><th scope=col>pe2</th><th scope=col>animal</th></tr>\n",
       "\t<tr><th></th><th scope=col>&lt;fct&gt;</th><th scope=col>&lt;fct&gt;</th><th scope=col>&lt;dbl&gt;</th><th scope=col>&lt;dbl&gt;</th><th scope=col>&lt;fct&gt;</th><th scope=col>&lt;fct&gt;</th></tr>\n",
       "</thead>\n",
       "<tbody>\n",
       "\t<tr><th scope=row>1</th><td>period1.giv(animal,1</td><td>1.17M3019830268</td><td>0.10790</td><td>7.714</td><td>1</td><td>17M3019830268</td></tr>\n",
       "\t<tr><th scope=row>2</th><td>period1.giv(animal,1</td><td>1.17M3019830280</td><td>0.02548</td><td>7.714</td><td>1</td><td>17M3019830280</td></tr>\n",
       "\t<tr><th scope=row>3</th><td>period1.giv(animal,1</td><td>1.17M3019830492</td><td>0.04120</td><td>7.714</td><td>1</td><td>17M3019830492</td></tr>\n",
       "\t<tr><th scope=row>4</th><td>period1.giv(animal,1</td><td>1.17M3019830508</td><td>0.04120</td><td>7.714</td><td>1</td><td>17M3019830508</td></tr>\n",
       "\t<tr><th scope=row>5</th><td>period1.giv(animal,1</td><td>1.17M3019840010</td><td>0.09216</td><td>7.714</td><td>1</td><td>17M3019840010</td></tr>\n",
       "\t<tr><th scope=row>6</th><td>period1.giv(animal,1</td><td>1.17M3019840036</td><td>0.08239</td><td>7.714</td><td>1</td><td>17M3019840036</td></tr>\n",
       "</tbody>\n",
       "</table>\n"
      ],
      "text/latex": [
       "A data.frame: 6 × 6\n",
       "\\begin{tabular}{r|llllll}\n",
       "  & V11 & code1 & value1 & SEg\\_MTH & pe2 & animal\\\\\n",
       "  & <fct> & <fct> & <dbl> & <dbl> & <fct> & <fct>\\\\\n",
       "\\hline\n",
       "\t1 & period1.giv(animal,1 & 1.17M3019830268 & 0.10790 & 7.714 & 1 & 17M3019830268\\\\\n",
       "\t2 & period1.giv(animal,1 & 1.17M3019830280 & 0.02548 & 7.714 & 1 & 17M3019830280\\\\\n",
       "\t3 & period1.giv(animal,1 & 1.17M3019830492 & 0.04120 & 7.714 & 1 & 17M3019830492\\\\\n",
       "\t4 & period1.giv(animal,1 & 1.17M3019830508 & 0.04120 & 7.714 & 1 & 17M3019830508\\\\\n",
       "\t5 & period1.giv(animal,1 & 1.17M3019840010 & 0.09216 & 7.714 & 1 & 17M3019840010\\\\\n",
       "\t6 & period1.giv(animal,1 & 1.17M3019840036 & 0.08239 & 7.714 & 1 & 17M3019840036\\\\\n",
       "\\end{tabular}\n"
      ],
      "text/markdown": [
       "\n",
       "A data.frame: 6 × 6\n",
       "\n",
       "| <!--/--> | V11 &lt;fct&gt; | code1 &lt;fct&gt; | value1 &lt;dbl&gt; | SEg_MTH &lt;dbl&gt; | pe2 &lt;fct&gt; | animal &lt;fct&gt; |\n",
       "|---|---|---|---|---|---|---|\n",
       "| 1 | period1.giv(animal,1 | 1.17M3019830268 | 0.10790 | 7.714 | 1 | 17M3019830268 |\n",
       "| 2 | period1.giv(animal,1 | 1.17M3019830280 | 0.02548 | 7.714 | 1 | 17M3019830280 |\n",
       "| 3 | period1.giv(animal,1 | 1.17M3019830492 | 0.04120 | 7.714 | 1 | 17M3019830492 |\n",
       "| 4 | period1.giv(animal,1 | 1.17M3019830508 | 0.04120 | 7.714 | 1 | 17M3019830508 |\n",
       "| 5 | period1.giv(animal,1 | 1.17M3019840010 | 0.09216 | 7.714 | 1 | 17M3019840010 |\n",
       "| 6 | period1.giv(animal,1 | 1.17M3019840036 | 0.08239 | 7.714 | 1 | 17M3019840036 |\n",
       "\n"
      ],
      "text/plain": [
       "  V11                  code1           value1  SEg_MTH pe2 animal       \n",
       "1 period1.giv(animal,1 1.17M3019830268 0.10790 7.714   1   17M3019830268\n",
       "2 period1.giv(animal,1 1.17M3019830280 0.02548 7.714   1   17M3019830280\n",
       "3 period1.giv(animal,1 1.17M3019830492 0.04120 7.714   1   17M3019830492\n",
       "4 period1.giv(animal,1 1.17M3019830508 0.04120 7.714   1   17M3019830508\n",
       "5 period1.giv(animal,1 1.17M3019840010 0.09216 7.714   1   17M3019840010\n",
       "6 period1.giv(animal,1 1.17M3019840036 0.08239 7.714   1   17M3019840036"
      ]
     },
     "metadata": {},
     "output_type": "display_data"
    }
   ],
   "source": [
    "########################################################################################################\n",
    "#rm(list = ls())\n",
    "\n",
    "\n",
    "\n",
    "DF_s3=read.table(\"dat_correct_RRA_RRH_sadA_SADH_mtA\")\n",
    "sln_mtH <- read.table(\"sln_mtH\", quote=\"\\\"\", comment.char=\"\") #old is G_sad\n",
    "ide_mtH <- read.table(\"ide_mtH\", quote=\"\\\"\", comment.char=\"\")\n",
    "sln_mtH$V3=sln_mtH$V3+ide_mtH$V3\n",
    "names(sln_mtH)<-c(\"V1\",\"code\",\"value\",\"SE\")\n",
    "\n",
    "\n",
    "\n",
    "\n",
    "m_mtH <- as.data.frame(matrix(unlist(strsplit(as.character(sln_mtH$code)  , \"\\\\.\" )), ncol = 2 , byrow = TRUE ))\n",
    "sln_mtH1=cbind(sln_mtH,m_mtH)\n",
    "names(sln_mtH1)<-c(\"V11\",\"code1\",\"value1\",\"SEg_MTH\",\"pe2\",\"animal\")\n",
    "head(sln_mtH1)\n",
    "sln_mtH1 <- select(sln_mtH1,c(animal,pe2,value1,SEg_MTH))"
   ]
  },
  {
   "cell_type": "code",
   "execution_count": 72,
   "metadata": {},
   "outputs": [
    {
     "data": {
      "text/html": [
       "0.998394148234306"
      ],
      "text/latex": [
       "0.998394148234306"
      ],
      "text/markdown": [
       "0.998394148234306"
      ],
      "text/plain": [
       "[1] 0.9983941"
      ]
     },
     "metadata": {},
     "output_type": "display_data"
    },
    {
     "data": {
      "text/html": [
       "0.99608186084774"
      ],
      "text/latex": [
       "0.99608186084774"
      ],
      "text/markdown": [
       "0.99608186084774"
      ],
      "text/plain": [
       "[1] 0.9960819"
      ]
     },
     "metadata": {},
     "output_type": "display_data"
    },
    {
     "data": {
      "text/html": [
       "<table>\n",
       "<caption>A data.frame: 6 × 43</caption>\n",
       "<thead>\n",
       "\t<tr><th></th><th scope=col>animal</th><th scope=col>pe2</th><th scope=col>week</th><th scope=col>identif</th><th scope=col>bande</th><th scope=col>sex</th><th scope=col>lignee</th><th scope=col>gener</th><th scope=col>loge</th><th scope=col>eleve</th><th scope=col>...</th><th scope=col>y_RR</th><th scope=col>y_RRH</th><th scope=col>SEgA</th><th scope=col>y_SAD</th><th scope=col>SEgH</th><th scope=col>y_SADH</th><th scope=col>SEg_MTA</th><th scope=col>y_MT</th><th scope=col>SEg_MTH</th><th scope=col>y_MTH</th></tr>\n",
       "\t<tr><th></th><th scope=col>&lt;fct&gt;</th><th scope=col>&lt;int&gt;</th><th scope=col>&lt;int&gt;</th><th scope=col>&lt;fct&gt;</th><th scope=col>&lt;int&gt;</th><th scope=col>&lt;int&gt;</th><th scope=col>&lt;fct&gt;</th><th scope=col>&lt;fct&gt;</th><th scope=col>&lt;int&gt;</th><th scope=col>&lt;fct&gt;</th><th scope=col>...</th><th scope=col>&lt;dbl&gt;</th><th scope=col>&lt;dbl&gt;</th><th scope=col>&lt;dbl&gt;</th><th scope=col>&lt;dbl&gt;</th><th scope=col>&lt;dbl&gt;</th><th scope=col>&lt;dbl&gt;</th><th scope=col>&lt;dbl&gt;</th><th scope=col>&lt;dbl&gt;</th><th scope=col>&lt;dbl&gt;</th><th scope=col>&lt;dbl&gt;</th></tr>\n",
       "</thead>\n",
       "<tbody>\n",
       "\t<tr><th scope=row>1</th><td>17MAG20005070</td><td>1</td><td>2</td><td>17MAG20005070</td><td>200011</td><td>2</td><td>n</td><td>G0</td><td>71</td><td>17MAG</td><td>...</td><td> 94.97610</td><td> 95.87767</td><td>8.846</td><td> 92.79172</td><td>8.846</td><td> 92.79172</td><td>7.612</td><td> 95.4500</td><td>6.915</td><td> 96.640</td></tr>\n",
       "\t<tr><th scope=row>2</th><td>17MAG20005070</td><td>2</td><td>4</td><td>17MAG20005070</td><td>200011</td><td>2</td><td>n</td><td>G0</td><td>71</td><td>17MAG</td><td>...</td><td> 79.52834</td><td> 79.07920</td><td>7.179</td><td> 78.04357</td><td>7.179</td><td> 78.04359</td><td>5.936</td><td> 80.2270</td><td>5.822</td><td> 79.649</td></tr>\n",
       "\t<tr><th scope=row>3</th><td>17MAG20005070</td><td>2</td><td>5</td><td>17MAG20005070</td><td>200011</td><td>2</td><td>n</td><td>G0</td><td>71</td><td>17MAG</td><td>...</td><td>-11.37910</td><td>-12.41159</td><td>7.112</td><td>-11.63063</td><td>7.112</td><td>-11.63062</td><td>5.936</td><td>-10.8730</td><td>5.822</td><td>-11.471</td></tr>\n",
       "\t<tr><th scope=row>4</th><td>17MAG20005070</td><td>3</td><td>6</td><td>17MAG20005070</td><td>200011</td><td>2</td><td>n</td><td>G0</td><td>71</td><td>17MAG</td><td>...</td><td>-28.62189</td><td>-30.16971</td><td>7.418</td><td>-29.23046</td><td>7.418</td><td>-29.23045</td><td>6.505</td><td>-28.2649</td><td>6.555</td><td>-30.280</td></tr>\n",
       "\t<tr><th scope=row>5</th><td>17MAG20005070</td><td>3</td><td>7</td><td>17MAG20005070</td><td>200011</td><td>2</td><td>n</td><td>G0</td><td>71</td><td>17MAG</td><td>...</td><td>-13.24151</td><td>-15.24268</td><td>8.000</td><td>-14.00499</td><td>8.000</td><td>-14.00498</td><td>6.505</td><td>-13.1429</td><td>6.555</td><td>-15.175</td></tr>\n",
       "\t<tr><th scope=row>6</th><td>17MAG20005070</td><td>3</td><td>8</td><td>17MAG20005070</td><td>200011</td><td>2</td><td>n</td><td>G0</td><td>71</td><td>17MAG</td><td>...</td><td>-24.36453</td><td>-26.74102</td><td>8.805</td><td>-25.16910</td><td>8.805</td><td>-25.16910</td><td>6.505</td><td>-24.3549</td><td>6.555</td><td>-26.390</td></tr>\n",
       "</tbody>\n",
       "</table>\n"
      ],
      "text/latex": [
       "A data.frame: 6 × 43\n",
       "\\begin{tabular}{r|lllllllllllllllllllll}\n",
       "  & animal & pe2 & week & identif & bande & sex & lignee & gener & loge & eleve & ... & y\\_RR & y\\_RRH & SEgA & y\\_SAD & SEgH & y\\_SADH & SEg\\_MTA & y\\_MT & SEg\\_MTH & y\\_MTH\\\\\n",
       "  & <fct> & <int> & <int> & <fct> & <int> & <int> & <fct> & <fct> & <int> & <fct> & ... & <dbl> & <dbl> & <dbl> & <dbl> & <dbl> & <dbl> & <dbl> & <dbl> & <dbl> & <dbl>\\\\\n",
       "\\hline\n",
       "\t1 & 17MAG20005070 & 1 & 2 & 17MAG20005070 & 200011 & 2 & n & G0 & 71 & 17MAG & ... &  94.97610 &  95.87767 & 8.846 &  92.79172 & 8.846 &  92.79172 & 7.612 &  95.4500 & 6.915 &  96.640\\\\\n",
       "\t2 & 17MAG20005070 & 2 & 4 & 17MAG20005070 & 200011 & 2 & n & G0 & 71 & 17MAG & ... &  79.52834 &  79.07920 & 7.179 &  78.04357 & 7.179 &  78.04359 & 5.936 &  80.2270 & 5.822 &  79.649\\\\\n",
       "\t3 & 17MAG20005070 & 2 & 5 & 17MAG20005070 & 200011 & 2 & n & G0 & 71 & 17MAG & ... & -11.37910 & -12.41159 & 7.112 & -11.63063 & 7.112 & -11.63062 & 5.936 & -10.8730 & 5.822 & -11.471\\\\\n",
       "\t4 & 17MAG20005070 & 3 & 6 & 17MAG20005070 & 200011 & 2 & n & G0 & 71 & 17MAG & ... & -28.62189 & -30.16971 & 7.418 & -29.23046 & 7.418 & -29.23045 & 6.505 & -28.2649 & 6.555 & -30.280\\\\\n",
       "\t5 & 17MAG20005070 & 3 & 7 & 17MAG20005070 & 200011 & 2 & n & G0 & 71 & 17MAG & ... & -13.24151 & -15.24268 & 8.000 & -14.00499 & 8.000 & -14.00498 & 6.505 & -13.1429 & 6.555 & -15.175\\\\\n",
       "\t6 & 17MAG20005070 & 3 & 8 & 17MAG20005070 & 200011 & 2 & n & G0 & 71 & 17MAG & ... & -24.36453 & -26.74102 & 8.805 & -25.16910 & 8.805 & -25.16910 & 6.505 & -24.3549 & 6.555 & -26.390\\\\\n",
       "\\end{tabular}\n"
      ],
      "text/markdown": [
       "\n",
       "A data.frame: 6 × 43\n",
       "\n",
       "| <!--/--> | animal &lt;fct&gt; | pe2 &lt;int&gt; | week &lt;int&gt; | identif &lt;fct&gt; | bande &lt;int&gt; | sex &lt;int&gt; | lignee &lt;fct&gt; | gener &lt;fct&gt; | loge &lt;int&gt; | eleve &lt;fct&gt; | ... ... | y_RR &lt;dbl&gt; | y_RRH &lt;dbl&gt; | SEgA &lt;dbl&gt; | y_SAD &lt;dbl&gt; | SEgH &lt;dbl&gt; | y_SADH &lt;dbl&gt; | SEg_MTA &lt;dbl&gt; | y_MT &lt;dbl&gt; | SEg_MTH &lt;dbl&gt; | y_MTH &lt;dbl&gt; |\n",
       "|---|---|---|---|---|---|---|---|---|---|---|---|---|---|---|---|---|---|---|---|---|---|\n",
       "| 1 | 17MAG20005070 | 1 | 2 | 17MAG20005070 | 200011 | 2 | n | G0 | 71 | 17MAG | ... |  94.97610 |  95.87767 | 8.846 |  92.79172 | 8.846 |  92.79172 | 7.612 |  95.4500 | 6.915 |  96.640 |\n",
       "| 2 | 17MAG20005070 | 2 | 4 | 17MAG20005070 | 200011 | 2 | n | G0 | 71 | 17MAG | ... |  79.52834 |  79.07920 | 7.179 |  78.04357 | 7.179 |  78.04359 | 5.936 |  80.2270 | 5.822 |  79.649 |\n",
       "| 3 | 17MAG20005070 | 2 | 5 | 17MAG20005070 | 200011 | 2 | n | G0 | 71 | 17MAG | ... | -11.37910 | -12.41159 | 7.112 | -11.63063 | 7.112 | -11.63062 | 5.936 | -10.8730 | 5.822 | -11.471 |\n",
       "| 4 | 17MAG20005070 | 3 | 6 | 17MAG20005070 | 200011 | 2 | n | G0 | 71 | 17MAG | ... | -28.62189 | -30.16971 | 7.418 | -29.23046 | 7.418 | -29.23045 | 6.505 | -28.2649 | 6.555 | -30.280 |\n",
       "| 5 | 17MAG20005070 | 3 | 7 | 17MAG20005070 | 200011 | 2 | n | G0 | 71 | 17MAG | ... | -13.24151 | -15.24268 | 8.000 | -14.00499 | 8.000 | -14.00498 | 6.505 | -13.1429 | 6.555 | -15.175 |\n",
       "| 6 | 17MAG20005070 | 3 | 8 | 17MAG20005070 | 200011 | 2 | n | G0 | 71 | 17MAG | ... | -24.36453 | -26.74102 | 8.805 | -25.16910 | 8.805 | -25.16910 | 6.505 | -24.3549 | 6.555 | -26.390 |\n",
       "\n"
      ],
      "text/plain": [
       "  animal        pe2 week identif       bande  sex lignee gener loge eleve ...\n",
       "1 17MAG20005070 1   2    17MAG20005070 200011 2   n      G0    71   17MAG ...\n",
       "2 17MAG20005070 2   4    17MAG20005070 200011 2   n      G0    71   17MAG ...\n",
       "3 17MAG20005070 2   5    17MAG20005070 200011 2   n      G0    71   17MAG ...\n",
       "4 17MAG20005070 3   6    17MAG20005070 200011 2   n      G0    71   17MAG ...\n",
       "5 17MAG20005070 3   7    17MAG20005070 200011 2   n      G0    71   17MAG ...\n",
       "6 17MAG20005070 3   8    17MAG20005070 200011 2   n      G0    71   17MAG ...\n",
       "  y_RR      y_RRH     SEgA  y_SAD     SEgH  y_SADH    SEg_MTA y_MT     SEg_MTH\n",
       "1  94.97610  95.87767 8.846  92.79172 8.846  92.79172 7.612    95.4500 6.915  \n",
       "2  79.52834  79.07920 7.179  78.04357 7.179  78.04359 5.936    80.2270 5.822  \n",
       "3 -11.37910 -12.41159 7.112 -11.63063 7.112 -11.63062 5.936   -10.8730 5.822  \n",
       "4 -28.62189 -30.16971 7.418 -29.23046 7.418 -29.23045 6.505   -28.2649 6.555  \n",
       "5 -13.24151 -15.24268 8.000 -14.00499 8.000 -14.00498 6.505   -13.1429 6.555  \n",
       "6 -24.36453 -26.74102 8.805 -25.16910 8.805 -25.16910 6.505   -24.3549 6.555  \n",
       "  y_MTH  \n",
       "1  96.640\n",
       "2  79.649\n",
       "3 -11.471\n",
       "4 -30.280\n",
       "5 -15.175\n",
       "6 -26.390"
      ]
     },
     "metadata": {},
     "output_type": "display_data"
    }
   ],
   "source": [
    "critere=c(\"animal\",\"pe2\")\n",
    "DF_s4=merge(DF_s3,sln_mtH1,by=c(critere))\n",
    "DF_s4$y_MTH = DF_s4$e_MTH+DF_s4$value1\n",
    "\n",
    "DF_s4=subset(DF_s4,select=-c(value1))\n",
    "write.table(DF_s4,\"dat_correct_RRA_RRH_sadA_SADH_mtA_mtH\")\n",
    "\n",
    "\n",
    "with(DF_s4,cor(y_RR,y_SADH))\n",
    "with(DF_s4,cor(y_RRH,y_RR))\n",
    "head(DF_s4)\n"
   ]
  },
  {
   "cell_type": "code",
   "execution_count": 73,
   "metadata": {},
   "outputs": [],
   "source": [
    "fix(DF_s4)"
   ]
  },
  {
   "cell_type": "code",
   "execution_count": 26,
   "metadata": {},
   "outputs": [
    {
     "data": {
      "text/plain": [
       "R version 3.6.3 (2020-02-29)\n",
       "Platform: x86_64-w64-mingw32/x64 (64-bit)\n",
       "Running under: Windows 10 x64 (build 18363)\n",
       "\n",
       "Matrix products: default\n",
       "\n",
       "locale:\n",
       "[1] LC_COLLATE=English_United States.1252 \n",
       "[2] LC_CTYPE=English_United States.1252   \n",
       "[3] LC_MONETARY=English_United States.1252\n",
       "[4] LC_NUMERIC=C                          \n",
       "[5] LC_TIME=English_United States.1252    \n",
       "\n",
       "attached base packages:\n",
       "[1] stats     graphics  grDevices utils     datasets  methods   base     \n",
       "\n",
       "other attached packages:\n",
       "[1] corrplot_0.84   psych_1.9.12.31 plyr_1.8.5      stringr_1.4.0  \n",
       "[5] reshape2_1.4.3  dplyr_0.8.4     pacman_0.5.1   \n",
       "\n",
       "loaded via a namespace (and not attached):\n",
       " [1] Rcpp_1.0.4       magrittr_1.5     mnormt_1.5-6     tidyselect_1.0.0\n",
       " [5] uuid_0.1-2       lattice_0.20-38  R6_2.4.1         rlang_0.4.5     \n",
       " [9] tools_3.6.3      grid_3.6.3       parallel_3.6.3   nlme_3.1-144    \n",
       "[13] htmltools_0.4.0  digest_0.6.25    assertthat_0.2.1 tibble_2.1.3    \n",
       "[17] crayon_1.3.4     IRdisplay_0.7.0  purrr_0.3.3      repr_1.1.0      \n",
       "[21] vctrs_0.2.3      base64enc_0.1-3  IRkernel_1.1     glue_1.3.1      \n",
       "[25] evaluate_0.14    stringi_1.4.6    pbdZMQ_0.3-3     compiler_3.6.3  \n",
       "[29] pillar_1.4.3     jsonlite_1.6.1   pkgconfig_2.0.3 "
      ]
     },
     "metadata": {},
     "output_type": "display_data"
    }
   ],
   "source": [
    "sessionInfo()\n"
   ]
  },
  {
   "cell_type": "code",
   "execution_count": 74,
   "metadata": {},
   "outputs": [
    {
     "data": {
      "text/html": [
       "'C:/Users/HP/OneDrive/RFI_all/RFI_all'"
      ],
      "text/latex": [
       "'C:/Users/HP/OneDrive/RFI\\_all/RFI\\_all'"
      ],
      "text/markdown": [
       "'C:/Users/HP/OneDrive/RFI_all/RFI_all'"
      ],
      "text/plain": [
       "[1] \"C:/Users/HP/OneDrive/RFI_all/RFI_all\""
      ]
     },
     "metadata": {},
     "output_type": "display_data"
    }
   ],
   "source": [
    "getwd()"
   ]
  },
  {
   "cell_type": "code",
   "execution_count": null,
   "metadata": {},
   "outputs": [],
   "source": []
  },
  {
   "cell_type": "code",
   "execution_count": null,
   "metadata": {},
   "outputs": [],
   "source": []
  }
 ],
 "metadata": {
  "kernelspec": {
   "display_name": "R",
   "language": "R",
   "name": "ir"
  },
  "language_info": {
   "codemirror_mode": "r",
   "file_extension": ".r",
   "mimetype": "text/x-r-source",
   "name": "R",
   "pygments_lexer": "r",
   "version": "3.6.3"
  }
 },
 "nbformat": 4,
 "nbformat_minor": 4
}
